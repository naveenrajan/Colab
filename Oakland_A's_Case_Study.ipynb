{
  "nbformat": 4,
  "nbformat_minor": 0,
  "metadata": {
    "colab": {
      "name": "Oakland A's Case Study.ipynb",
      "provenance": [],
      "collapsed_sections": [],
      "authorship_tag": "ABX9TyNz/kH3Yz0rMt150NVq8OXq",
      "include_colab_link": true
    },
    "kernelspec": {
      "name": "python3",
      "display_name": "Python 3"
    }
  },
  "cells": [
    {
      "cell_type": "markdown",
      "metadata": {
        "id": "view-in-github",
        "colab_type": "text"
      },
      "source": [
        "<a href=\"https://colab.research.google.com/github/naveenrajan/Colab/blob/master/Oakland_A's_Case_Study.ipynb\" target=\"_parent\"><img src=\"https://colab.research.google.com/assets/colab-badge.svg\" alt=\"Open In Colab\"/></a>"
      ]
    },
    {
      "cell_type": "code",
      "metadata": {
        "id": "q-yRVUiyvseL",
        "outputId": "12571774-e463-41f0-b24c-40e69d45a7e9",
        "colab": {
          "base_uri": "https://localhost:8080/",
          "height": 34
        }
      },
      "source": [
        "import pandas as pd\n",
        "import statsmodels.api as sm\n",
        "from google.colab import drive\n",
        "drive.mount('/content/drive/')"
      ],
      "execution_count": null,
      "outputs": [
        {
          "output_type": "stream",
          "text": [
            "Drive already mounted at /content/drive/; to attempt to forcibly remount, call drive.mount(\"/content/drive/\", force_remount=True).\n"
          ],
          "name": "stdout"
        }
      ]
    },
    {
      "cell_type": "code",
      "metadata": {
        "id": "PJSncyy5wp5A"
      },
      "source": [
        "df=pd.read_excel('drive/My Drive/Colab Notebooks/Oakland A Data 1.xlsx',\n",
        "                 sheet_name='Attendance Data')"
      ],
      "execution_count": null,
      "outputs": []
    },
    {
      "cell_type": "code",
      "metadata": {
        "id": "7WPJ75KCwsLZ",
        "outputId": "ecb49ebb-7d84-409a-a323-ffff80d677b3",
        "colab": {
          "base_uri": "https://localhost:8080/",
          "height": 255
        }
      },
      "source": [
        "df.head"
      ],
      "execution_count": null,
      "outputs": [
        {
          "output_type": "execute_result",
          "data": {
            "text/plain": [
              "<bound method NDFrame.head of     NUMBER    TIX  OPP  POS  GB  DOW  TEMP  ...  O7  O8  O9  O10  O11  O12  O13\n",
              "0        1  24415    2    5   1    4    57  ...   0   0   0    0    0    0    0\n",
              "1        2   5729    2    3   1    5    66  ...   0   0   0    0    0    0    0\n",
              "2        3   5783    2    7   1    6    64  ...   0   0   0    0    0    0    0\n",
              "3        4   6300    2    5   1    7    62  ...   0   0   0    0    0    0    0\n",
              "4        5   5260    1    7   2    1    60  ...   0   0   0    0    0    0    0\n",
              "..     ...    ...  ...  ...  ..  ...   ...  ...  ..  ..  ..  ...  ...  ...  ...\n",
              "70      71   3836    8    2  14    3    69  ...   0   1   0    0    0    0    0\n",
              "71      72   3180    8    2  14    4    64  ...   0   1   0    0    0    0    0\n",
              "72      73   5099    6    2  14    5    64  ...   0   0   0    0    0    0    0\n",
              "73      74   4581    6    2  13    6    62  ...   0   0   0    0    0    0    0\n",
              "74      75  10662    6    2  12    7    65  ...   0   0   0    0    0    0    0\n",
              "\n",
              "[75 rows x 29 columns]>"
            ]
          },
          "metadata": {
            "tags": []
          },
          "execution_count": 8
        }
      ]
    },
    {
      "cell_type": "code",
      "metadata": {
        "id": "75j72FBhxKxA",
        "outputId": "3ceeaed7-fa22-4bea-9aa9-f0250066a7f8",
        "colab": {
          "base_uri": "https://localhost:8080/",
          "height": 85
        }
      },
      "source": [
        "df.columns"
      ],
      "execution_count": null,
      "outputs": [
        {
          "output_type": "execute_result",
          "data": {
            "text/plain": [
              "Index(['NUMBER', 'TIX', 'OPP', 'POS', 'GB', 'DOW', 'TEMP', 'PREC', 'TOG', 'TV',\n",
              "       'PROMO', 'NOBEL', 'YANKS', 'WKEND', 'OD', 'DH', 'O1', 'O2', 'O3', 'O4',\n",
              "       'O5', 'O6', 'O7', 'O8', 'O9', 'O10', 'O11', 'O12', 'O13'],\n",
              "      dtype='object')"
            ]
          },
          "metadata": {
            "tags": []
          },
          "execution_count": 9
        }
      ]
    },
    {
      "cell_type": "code",
      "metadata": {
        "id": "lzYUdLUvxK1D",
        "outputId": "1005b3cc-5a84-4854-fc3c-68b34af4dfb9",
        "colab": {
          "base_uri": "https://localhost:8080/",
          "height": 561
        }
      },
      "source": [
        "X=df[['TEMP','PREC','DH','O8','PROMO','NOBEL']]\n",
        "y=df['TIX']\n",
        "\n",
        "X=sm.add_constant(X)\n",
        "model = sm.OLS(y, X).fit()\n",
        "\n",
        "print(model.summary())"
      ],
      "execution_count": null,
      "outputs": [
        {
          "output_type": "stream",
          "text": [
            "                            OLS Regression Results                            \n",
            "==============================================================================\n",
            "Dep. Variable:                    TIX   R-squared:                       0.177\n",
            "Model:                            OLS   Adj. R-squared:                  0.104\n",
            "Method:                 Least Squares   F-statistic:                     2.434\n",
            "Date:                Sat, 26 Sep 2020   Prob (F-statistic):             0.0343\n",
            "Time:                        09:38:07   Log-Likelihood:                -787.34\n",
            "No. Observations:                  75   AIC:                             1589.\n",
            "Df Residuals:                      68   BIC:                             1605.\n",
            "Df Model:                           6                                         \n",
            "Covariance Type:            nonrobust                                         \n",
            "==============================================================================\n",
            "                 coef    std err          t      P>|t|      [0.025      0.975]\n",
            "------------------------------------------------------------------------------\n",
            "const       2.212e+04    2.4e+04      0.923      0.359   -2.57e+04       7e+04\n",
            "TEMP        -198.8836    389.193     -0.511      0.611    -975.506     577.739\n",
            "PREC       -7255.1237   5793.590     -1.252      0.215   -1.88e+04    4305.805\n",
            "DH          9019.5040   4122.564      2.188      0.032     793.055    1.72e+04\n",
            "O8         -4885.3373   4506.676     -1.084      0.282   -1.39e+04    4107.596\n",
            "PROMO       7588.9927   2891.758      2.624      0.011    1818.579    1.34e+04\n",
            "NOBEL        479.6878   2657.397      0.181      0.857   -4823.065    5782.440\n",
            "==============================================================================\n",
            "Omnibus:                       48.189   Durbin-Watson:                   1.325\n",
            "Prob(Omnibus):                  0.000   Jarque-Bera (JB):              148.509\n",
            "Skew:                           2.122   Prob(JB):                     5.64e-33\n",
            "Kurtosis:                       8.433   Cond. No.                     1.41e+03\n",
            "==============================================================================\n",
            "\n",
            "Warnings:\n",
            "[1] Standard Errors assume that the covariance matrix of the errors is correctly specified.\n",
            "[2] The condition number is large, 1.41e+03. This might indicate that there are\n",
            "strong multicollinearity or other numerical problems.\n"
          ],
          "name": "stdout"
        }
      ]
    },
    {
      "cell_type": "code",
      "metadata": {
        "id": "qGVsvBk0xK3m",
        "outputId": "cd1a8832-145f-49ac-c63a-dc9c88985e14",
        "colab": {
          "base_uri": "https://localhost:8080/",
          "height": 544
        }
      },
      "source": [
        "X=df[['POS','GB','PREC','DH','NOBEL','TOG','PROMO']]\n",
        "y=df['TIX']\n",
        "\n",
        "X=sm.add_constant(X)\n",
        "model = sm.OLS(y, X).fit()\n",
        "\n",
        "print(model.summary())"
      ],
      "execution_count": null,
      "outputs": [
        {
          "output_type": "stream",
          "text": [
            "                            OLS Regression Results                            \n",
            "==============================================================================\n",
            "Dep. Variable:                    TIX   R-squared:                       0.178\n",
            "Model:                            OLS   Adj. R-squared:                  0.092\n",
            "Method:                 Least Squares   F-statistic:                     2.076\n",
            "Date:                Sat, 26 Sep 2020   Prob (F-statistic):             0.0581\n",
            "Time:                        09:38:45   Log-Likelihood:                -787.28\n",
            "No. Observations:                  75   AIC:                             1591.\n",
            "Df Residuals:                      67   BIC:                             1609.\n",
            "Df Model:                           7                                         \n",
            "Covariance Type:            nonrobust                                         \n",
            "==============================================================================\n",
            "                 coef    std err          t      P>|t|      [0.025      0.975]\n",
            "------------------------------------------------------------------------------\n",
            "const       8242.5827   4358.539      1.891      0.063    -457.098    1.69e+04\n",
            "POS         -988.8368    840.948     -1.176      0.244   -2667.377     689.703\n",
            "GB             5.1190    185.557      0.028      0.978    -365.254     375.492\n",
            "PREC       -6718.0498   5758.522     -1.167      0.247   -1.82e+04    4776.008\n",
            "DH          9100.2573   4146.024      2.195      0.032     824.758    1.74e+04\n",
            "NOBEL        445.7345   2688.059      0.166      0.869   -4919.654    5811.123\n",
            "TOG         2663.7914   2182.742      1.220      0.227   -1692.981    7020.563\n",
            "PROMO       7393.3232   2880.149      2.567      0.012    1644.522    1.31e+04\n",
            "==============================================================================\n",
            "Omnibus:                       47.463   Durbin-Watson:                   1.279\n",
            "Prob(Omnibus):                  0.000   Jarque-Bera (JB):              136.353\n",
            "Skew:                           2.135   Prob(JB):                     2.46e-30\n",
            "Kurtosis:                       8.040   Cond. No.                         61.6\n",
            "==============================================================================\n",
            "\n",
            "Warnings:\n",
            "[1] Standard Errors assume that the covariance matrix of the errors is correctly specified.\n"
          ],
          "name": "stdout"
        }
      ]
    },
    {
      "cell_type": "code",
      "metadata": {
        "id": "5x4Zfb01xK5r",
        "outputId": "fb1826a1-764e-422f-ebf6-6e9a004e223d",
        "colab": {
          "base_uri": "https://localhost:8080/",
          "height": 561
        }
      },
      "source": [
        "X=df[['POS','GB','PREC','DH','NOBEL','TOG','PROMO','YANKS']]\n",
        "\n",
        "y=df['TIX']\n",
        "\n",
        "X=sm.add_constant(X)\n",
        "model = sm.OLS(y, X).fit()\n",
        "\n",
        "print(model.summary())"
      ],
      "execution_count": null,
      "outputs": [
        {
          "output_type": "stream",
          "text": [
            "                            OLS Regression Results                            \n",
            "==============================================================================\n",
            "Dep. Variable:                    TIX   R-squared:                       0.713\n",
            "Model:                            OLS   Adj. R-squared:                  0.678\n",
            "Method:                 Least Squares   F-statistic:                     20.51\n",
            "Date:                Sat, 26 Sep 2020   Prob (F-statistic):           3.38e-15\n",
            "Time:                        09:40:24   Log-Likelihood:                -747.80\n",
            "No. Observations:                  75   AIC:                             1514.\n",
            "Df Residuals:                      66   BIC:                             1534.\n",
            "Df Model:                           8                                         \n",
            "Covariance Type:            nonrobust                                         \n",
            "==============================================================================\n",
            "                 coef    std err          t      P>|t|      [0.025      0.975]\n",
            "------------------------------------------------------------------------------\n",
            "const       8545.9153   2594.549      3.294      0.002    3365.732    1.37e+04\n",
            "POS         -715.3703    501.178     -1.427      0.158   -1716.004     285.264\n",
            "GB           -86.6063    110.761     -0.782      0.437    -307.748     134.535\n",
            "PREC       -4317.9919   3434.558     -1.257      0.213   -1.12e+04    2539.325\n",
            "DH          5472.4969   2489.473      2.198      0.031     502.104    1.04e+04\n",
            "NOBEL      -1191.7466   1606.850     -0.742      0.461   -4399.926    2016.433\n",
            "TOG         1885.9015   1301.160      1.449      0.152    -711.948    4483.751\n",
            "PROMO       4249.8002   1737.653      2.446      0.017     780.464    7719.137\n",
            "YANKS       2.939e+04   2649.328     11.095      0.000    2.41e+04    3.47e+04\n",
            "==============================================================================\n",
            "Omnibus:                       10.890   Durbin-Watson:                   1.782\n",
            "Prob(Omnibus):                  0.004   Jarque-Bera (JB):               10.985\n",
            "Skew:                           0.885   Prob(JB):                      0.00412\n",
            "Kurtosis:                       3.616   Cond. No.                         61.8\n",
            "==============================================================================\n",
            "\n",
            "Warnings:\n",
            "[1] Standard Errors assume that the covariance matrix of the errors is correctly specified.\n"
          ],
          "name": "stdout"
        }
      ]
    },
    {
      "cell_type": "code",
      "metadata": {
        "id": "KWUlOb0hzcXI",
        "outputId": "e7a5a233-d789-4f2e-8d85-50bb7fdbbf3b",
        "colab": {
          "base_uri": "https://localhost:8080/",
          "height": 544
        }
      },
      "source": [
        "X=df[['POS','GB','PREC','DH','TOG','PROMO','YANKS']]\n",
        "\n",
        "y=df['TIX']\n",
        "\n",
        "X=sm.add_constant(X)\n",
        "model = sm.OLS(y, X).fit()\n",
        "\n",
        "print(model.summary())"
      ],
      "execution_count": 16,
      "outputs": [
        {
          "output_type": "stream",
          "text": [
            "                            OLS Regression Results                            \n",
            "==============================================================================\n",
            "Dep. Variable:                    TIX   R-squared:                       0.711\n",
            "Model:                            OLS   Adj. R-squared:                  0.681\n",
            "Method:                 Least Squares   F-statistic:                     23.52\n",
            "Date:                Sat, 26 Sep 2020   Prob (F-statistic):           8.68e-16\n",
            "Time:                        09:45:46   Log-Likelihood:                -748.11\n",
            "No. Observations:                  75   AIC:                             1512.\n",
            "Df Residuals:                      67   BIC:                             1531.\n",
            "Df Model:                           7                                         \n",
            "Covariance Type:            nonrobust                                         \n",
            "==============================================================================\n",
            "                 coef    std err          t      P>|t|      [0.025      0.975]\n",
            "------------------------------------------------------------------------------\n",
            "const       8516.4107   2585.518      3.294      0.002    3355.695    1.37e+04\n",
            "POS         -735.2530    498.777     -1.474      0.145   -1730.817     260.310\n",
            "GB           -87.6794    110.379     -0.794      0.430    -307.997     132.638\n",
            "PREC       -4435.6979   3419.350     -1.297      0.199   -1.13e+04    2389.354\n",
            "DH          5120.6394   2435.631      2.102      0.039     259.100    9982.179\n",
            "TOG         1814.4101   1293.220      1.403      0.165    -766.868    4395.688\n",
            "PROMO       4204.1908   1730.724      2.429      0.018     749.651    7658.730\n",
            "YANKS       2.921e+04   2629.256     11.111      0.000     2.4e+04    3.45e+04\n",
            "==============================================================================\n",
            "Omnibus:                       11.251   Durbin-Watson:                   1.790\n",
            "Prob(Omnibus):                  0.004   Jarque-Bera (JB):               11.430\n",
            "Skew:                           0.895   Prob(JB):                      0.00330\n",
            "Kurtosis:                       3.673   Cond. No.                         61.8\n",
            "==============================================================================\n",
            "\n",
            "Warnings:\n",
            "[1] Standard Errors assume that the covariance matrix of the errors is correctly specified.\n"
          ],
          "name": "stdout"
        }
      ]
    },
    {
      "cell_type": "code",
      "metadata": {
        "id": "TTQ9aAXhzuNJ",
        "outputId": "dc9dd3d3-2b0b-4945-a191-814751b8b8f2",
        "colab": {
          "base_uri": "https://localhost:8080/",
          "height": 782
        }
      },
      "source": [
        "X=df[['DH','DOW','PREC','TOG','PROMO','O1','O2','O3','O4','O5','O6','O7','O8','O9','O10','O11','O12','O13','YANKS']]\n",
        "\n",
        "y=df['TIX']\n",
        "\n",
        "X=sm.add_constant(X)\n",
        "model = sm.OLS(y, X).fit()\n",
        "\n",
        "print(model.summary())"
      ],
      "execution_count": 22,
      "outputs": [
        {
          "output_type": "stream",
          "text": [
            "                            OLS Regression Results                            \n",
            "==============================================================================\n",
            "Dep. Variable:                    TIX   R-squared:                       0.774\n",
            "Model:                            OLS   Adj. R-squared:                  0.707\n",
            "Method:                 Least Squares   F-statistic:                     11.50\n",
            "Date:                Sat, 26 Sep 2020   Prob (F-statistic):           9.77e-13\n",
            "Time:                        09:52:27   Log-Likelihood:                -738.83\n",
            "No. Observations:                  75   AIC:                             1514.\n",
            "Df Residuals:                      57   BIC:                             1555.\n",
            "Df Model:                          17                                         \n",
            "Covariance Type:            nonrobust                                         \n",
            "==============================================================================\n",
            "                 coef    std err          t      P>|t|      [0.025      0.975]\n",
            "------------------------------------------------------------------------------\n",
            "const       4565.9041   3262.164      1.400      0.167   -1966.467    1.11e+04\n",
            "DH          7251.9960   2566.138      2.826      0.006    2113.394    1.24e+04\n",
            "DOW          220.3980    384.668      0.573      0.569    -549.886     990.682\n",
            "PREC       -2926.8472   3474.363     -0.842      0.403   -9884.140    4030.446\n",
            "TOG         2139.4742   1531.792      1.397      0.168    -927.885    5206.834\n",
            "PROMO       5207.8936   1863.001      2.795      0.007    1477.298    8938.489\n",
            "O1         -4469.3379   2123.385     -2.105      0.040   -8721.342    -217.334\n",
            "O2          1235.6159   1996.077      0.619      0.538   -2761.459    5232.691\n",
            "O3         -3523.4409   2522.944     -1.397      0.168   -8575.548    1528.667\n",
            "O4            1.4e+04   1223.678     11.440      0.000    1.15e+04    1.64e+04\n",
            "O5          -573.9571   2330.663     -0.246      0.806   -5241.030    4093.116\n",
            "O6         -2098.8386   2111.868     -0.994      0.325   -6327.781    2130.104\n",
            "O7         -2152.0888   2336.991     -0.921      0.361   -6831.833    2527.655\n",
            "O8         -4444.8886   2117.747     -2.099      0.040   -8685.603    -204.174\n",
            "O9          4256.4270   2144.947      1.984      0.052     -38.754    8551.608\n",
            "O10          492.3458   2176.436      0.226      0.822   -3865.892    4850.584\n",
            "O11          873.3026   2163.285      0.404      0.688   -3458.600    5205.206\n",
            "O12        -2379.6283   2105.223     -1.130      0.263   -6595.265    1836.008\n",
            "O13         3352.0384   2105.223      1.592      0.117    -863.598    7567.675\n",
            "YANKS         1.4e+04   1223.678     11.440      0.000    1.15e+04    1.64e+04\n",
            "==============================================================================\n",
            "Omnibus:                        6.524   Durbin-Watson:                   2.100\n",
            "Prob(Omnibus):                  0.038   Jarque-Bera (JB):                5.771\n",
            "Skew:                           0.595   Prob(JB):                       0.0558\n",
            "Kurtosis:                       3.657   Cond. No.                     7.98e+16\n",
            "==============================================================================\n",
            "\n",
            "Warnings:\n",
            "[1] Standard Errors assume that the covariance matrix of the errors is correctly specified.\n",
            "[2] The smallest eigenvalue is 2.91e-31. This might indicate that there are\n",
            "strong multicollinearity problems or that the design matrix is singular.\n"
          ],
          "name": "stdout"
        }
      ]
    },
    {
      "cell_type": "code",
      "metadata": {
        "id": "7CRu8HIa1FzN",
        "outputId": "36eba7fa-38a2-45ac-a203-f9246af98e2a",
        "colab": {
          "base_uri": "https://localhost:8080/",
          "height": 901
        }
      },
      "source": [
        "#All columns in dataset\n",
        "X=df[['POS', 'GB', 'DOW', 'TEMP', 'PREC', 'TOG', 'TV','PROMO', 'NOBEL', 'YANKS', 'WKEND', 'OD', 'DH', 'O1', 'O2', 'O3', 'O4','O5', 'O6', 'O7', 'O8', 'O9', 'O10', 'O11', 'O12', 'O13']]\n",
        "y=df['TIX']\n",
        "\n",
        "X=sm.add_constant(X)\n",
        "model = sm.OLS(y, X).fit()\n",
        "\n",
        "print(model.summary())"
      ],
      "execution_count": 23,
      "outputs": [
        {
          "output_type": "stream",
          "text": [
            "                            OLS Regression Results                            \n",
            "==============================================================================\n",
            "Dep. Variable:                    TIX   R-squared:                       0.834\n",
            "Model:                            OLS   Adj. R-squared:                  0.755\n",
            "Method:                 Least Squares   F-statistic:                     10.49\n",
            "Date:                Sat, 26 Sep 2020   Prob (F-statistic):           2.72e-12\n",
            "Time:                        09:53:47   Log-Likelihood:                -727.23\n",
            "No. Observations:                  75   AIC:                             1504.\n",
            "Df Residuals:                      50   BIC:                             1562.\n",
            "Df Model:                          24                                         \n",
            "Covariance Type:            nonrobust                                         \n",
            "==============================================================================\n",
            "                 coef    std err          t      P>|t|      [0.025      0.975]\n",
            "------------------------------------------------------------------------------\n",
            "const       3.158e+04   2.06e+04      1.533      0.132   -9799.951     7.3e+04\n",
            "POS         -343.8256    501.447     -0.686      0.496   -1351.012     663.360\n",
            "GB           114.6341    173.678      0.660      0.512    -234.208     463.476\n",
            "DOW        -2510.3706   1093.508     -2.296      0.026   -4706.746    -313.995\n",
            "TEMP        -270.8848    375.222     -0.722      0.474   -1024.541     482.771\n",
            "PREC       -4860.3380   3414.039     -1.424      0.161   -1.17e+04    1996.960\n",
            "TOG        -1875.3233   2060.997     -0.910      0.367   -6014.958    2264.312\n",
            "TV         -1403.4397   2061.884     -0.681      0.499   -5544.856    2737.977\n",
            "PROMO       5729.4987   1750.958      3.272      0.002    2212.595    9246.402\n",
            "NOBEL       -623.7824   1494.845     -0.417      0.678   -3626.266    2378.701\n",
            "YANKS       1.458e+04   1292.465     11.281      0.000     1.2e+04    1.72e+04\n",
            "WKEND       9681.8254   3831.410      2.527      0.015    1986.212    1.74e+04\n",
            "OD          2.166e+04   6444.636      3.361      0.001    8713.565    3.46e+04\n",
            "DH          9298.5666   2491.865      3.732      0.000    4293.509    1.43e+04\n",
            "O1         -2507.4120   2473.941     -1.014      0.316   -7476.468    2461.644\n",
            "O2          2017.7840   3442.117      0.586      0.560   -4895.911    8931.479\n",
            "O3           135.0997   2943.202      0.046      0.964   -5776.496    6046.695\n",
            "O4          1.458e+04   1292.465     11.281      0.000     1.2e+04    1.72e+04\n",
            "O5          2530.3084   2838.924      0.891      0.377   -3171.838    8232.454\n",
            "O6          -353.1332   2492.050     -0.142      0.888   -5358.563    4652.297\n",
            "O7          -514.1298   2692.299     -0.191      0.849   -5921.772    4893.513\n",
            "O8            46.2290   3616.513      0.013      0.990   -7217.752    7310.210\n",
            "O9          7769.8803   2671.604      2.908      0.005    2403.806    1.31e+04\n",
            "O10         1526.2176   2256.074      0.676      0.502   -3005.240    6057.675\n",
            "O11         3430.0676   2913.260      1.177      0.245   -2421.388    9281.523\n",
            "O12        -1279.2132   2085.230     -0.613      0.542   -5467.522    2909.095\n",
            "O13         4194.1834   2121.634      1.977      0.054     -67.243    8455.610\n",
            "==============================================================================\n",
            "Omnibus:                        3.945   Durbin-Watson:                   2.209\n",
            "Prob(Omnibus):                  0.139   Jarque-Bera (JB):                3.115\n",
            "Skew:                           0.441   Prob(JB):                        0.211\n",
            "Kurtosis:                       3.466   Cond. No.                     1.00e+16\n",
            "==============================================================================\n",
            "\n",
            "Warnings:\n",
            "[1] Standard Errors assume that the covariance matrix of the errors is correctly specified.\n",
            "[2] The smallest eigenvalue is 2.96e-27. This might indicate that there are\n",
            "strong multicollinearity problems or that the design matrix is singular.\n"
          ],
          "name": "stdout"
        }
      ]
    }
  ]
}