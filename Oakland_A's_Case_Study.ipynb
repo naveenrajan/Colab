{
  "nbformat": 4,
  "nbformat_minor": 0,
  "metadata": {
    "colab": {
      "name": "Oakland A's Case Study.ipynb",
      "provenance": [],
      "authorship_tag": "ABX9TyNHEPVAOGJREyrd9n6HthJH",
      "include_colab_link": true
    },
    "kernelspec": {
      "name": "python3",
      "display_name": "Python 3"
    }
  },
  "cells": [
    {
      "cell_type": "markdown",
      "metadata": {
        "id": "view-in-github",
        "colab_type": "text"
      },
      "source": [
        "<a href=\"https://colab.research.google.com/github/naveenrajan/Colab/blob/master/Oakland_A's_Case_Study.ipynb\" target=\"_parent\"><img src=\"https://colab.research.google.com/assets/colab-badge.svg\" alt=\"Open In Colab\"/></a>"
      ]
    },
    {
      "cell_type": "code",
      "metadata": {
        "id": "q-yRVUiyvseL",
        "outputId": "12571774-e463-41f0-b24c-40e69d45a7e9",
        "colab": {
          "base_uri": "https://localhost:8080/",
          "height": 34
        }
      },
      "source": [
        "import pandas as pd\n",
        "import statsmodels.api as sm\n",
        "from google.colab import drive\n",
        "drive.mount('/content/drive/')"
      ],
      "execution_count": null,
      "outputs": [
        {
          "output_type": "stream",
          "text": [
            "Drive already mounted at /content/drive/; to attempt to forcibly remount, call drive.mount(\"/content/drive/\", force_remount=True).\n"
          ],
          "name": "stdout"
        }
      ]
    },
    {
      "cell_type": "code",
      "metadata": {
        "id": "PJSncyy5wp5A"
      },
      "source": [
        "df=pd.read_excel('drive/My Drive/Colab Notebooks/Oakland A Data 1.xlsx',\n",
        "                 sheet_name='Attendance Data')"
      ],
      "execution_count": null,
      "outputs": []
    },
    {
      "cell_type": "code",
      "metadata": {
        "id": "7WPJ75KCwsLZ",
        "outputId": "ecb49ebb-7d84-409a-a323-ffff80d677b3",
        "colab": {
          "base_uri": "https://localhost:8080/",
          "height": 255
        }
      },
      "source": [
        "df.head"
      ],
      "execution_count": null,
      "outputs": [
        {
          "output_type": "execute_result",
          "data": {
            "text/plain": [
              "<bound method NDFrame.head of     NUMBER    TIX  OPP  POS  GB  DOW  TEMP  ...  O7  O8  O9  O10  O11  O12  O13\n",
              "0        1  24415    2    5   1    4    57  ...   0   0   0    0    0    0    0\n",
              "1        2   5729    2    3   1    5    66  ...   0   0   0    0    0    0    0\n",
              "2        3   5783    2    7   1    6    64  ...   0   0   0    0    0    0    0\n",
              "3        4   6300    2    5   1    7    62  ...   0   0   0    0    0    0    0\n",
              "4        5   5260    1    7   2    1    60  ...   0   0   0    0    0    0    0\n",
              "..     ...    ...  ...  ...  ..  ...   ...  ...  ..  ..  ..  ...  ...  ...  ...\n",
              "70      71   3836    8    2  14    3    69  ...   0   1   0    0    0    0    0\n",
              "71      72   3180    8    2  14    4    64  ...   0   1   0    0    0    0    0\n",
              "72      73   5099    6    2  14    5    64  ...   0   0   0    0    0    0    0\n",
              "73      74   4581    6    2  13    6    62  ...   0   0   0    0    0    0    0\n",
              "74      75  10662    6    2  12    7    65  ...   0   0   0    0    0    0    0\n",
              "\n",
              "[75 rows x 29 columns]>"
            ]
          },
          "metadata": {
            "tags": []
          },
          "execution_count": 8
        }
      ]
    },
    {
      "cell_type": "code",
      "metadata": {
        "id": "75j72FBhxKxA",
        "outputId": "3ceeaed7-fa22-4bea-9aa9-f0250066a7f8",
        "colab": {
          "base_uri": "https://localhost:8080/",
          "height": 85
        }
      },
      "source": [
        "df.columns"
      ],
      "execution_count": null,
      "outputs": [
        {
          "output_type": "execute_result",
          "data": {
            "text/plain": [
              "Index(['NUMBER', 'TIX', 'OPP', 'POS', 'GB', 'DOW', 'TEMP', 'PREC', 'TOG', 'TV',\n",
              "       'PROMO', 'NOBEL', 'YANKS', 'WKEND', 'OD', 'DH', 'O1', 'O2', 'O3', 'O4',\n",
              "       'O5', 'O6', 'O7', 'O8', 'O9', 'O10', 'O11', 'O12', 'O13'],\n",
              "      dtype='object')"
            ]
          },
          "metadata": {
            "tags": []
          },
          "execution_count": 9
        }
      ]
    },
    {
      "cell_type": "code",
      "metadata": {
        "id": "lzYUdLUvxK1D",
        "outputId": "1005b3cc-5a84-4854-fc3c-68b34af4dfb9",
        "colab": {
          "base_uri": "https://localhost:8080/",
          "height": 561
        }
      },
      "source": [
        "X=df[['TEMP','PREC','DH','O8','PROMO','NOBEL']]\n",
        "y=df['TIX']\n",
        "\n",
        "X=sm.add_constant(X)\n",
        "model = sm.OLS(y, X).fit()\n",
        "\n",
        "print(model.summary())"
      ],
      "execution_count": null,
      "outputs": [
        {
          "output_type": "stream",
          "text": [
            "                            OLS Regression Results                            \n",
            "==============================================================================\n",
            "Dep. Variable:                    TIX   R-squared:                       0.177\n",
            "Model:                            OLS   Adj. R-squared:                  0.104\n",
            "Method:                 Least Squares   F-statistic:                     2.434\n",
            "Date:                Sat, 26 Sep 2020   Prob (F-statistic):             0.0343\n",
            "Time:                        09:38:07   Log-Likelihood:                -787.34\n",
            "No. Observations:                  75   AIC:                             1589.\n",
            "Df Residuals:                      68   BIC:                             1605.\n",
            "Df Model:                           6                                         \n",
            "Covariance Type:            nonrobust                                         \n",
            "==============================================================================\n",
            "                 coef    std err          t      P>|t|      [0.025      0.975]\n",
            "------------------------------------------------------------------------------\n",
            "const       2.212e+04    2.4e+04      0.923      0.359   -2.57e+04       7e+04\n",
            "TEMP        -198.8836    389.193     -0.511      0.611    -975.506     577.739\n",
            "PREC       -7255.1237   5793.590     -1.252      0.215   -1.88e+04    4305.805\n",
            "DH          9019.5040   4122.564      2.188      0.032     793.055    1.72e+04\n",
            "O8         -4885.3373   4506.676     -1.084      0.282   -1.39e+04    4107.596\n",
            "PROMO       7588.9927   2891.758      2.624      0.011    1818.579    1.34e+04\n",
            "NOBEL        479.6878   2657.397      0.181      0.857   -4823.065    5782.440\n",
            "==============================================================================\n",
            "Omnibus:                       48.189   Durbin-Watson:                   1.325\n",
            "Prob(Omnibus):                  0.000   Jarque-Bera (JB):              148.509\n",
            "Skew:                           2.122   Prob(JB):                     5.64e-33\n",
            "Kurtosis:                       8.433   Cond. No.                     1.41e+03\n",
            "==============================================================================\n",
            "\n",
            "Warnings:\n",
            "[1] Standard Errors assume that the covariance matrix of the errors is correctly specified.\n",
            "[2] The condition number is large, 1.41e+03. This might indicate that there are\n",
            "strong multicollinearity or other numerical problems.\n"
          ],
          "name": "stdout"
        }
      ]
    },
    {
      "cell_type": "code",
      "metadata": {
        "id": "qGVsvBk0xK3m",
        "outputId": "cd1a8832-145f-49ac-c63a-dc9c88985e14",
        "colab": {
          "base_uri": "https://localhost:8080/",
          "height": 544
        }
      },
      "source": [
        "X=df[['POS','GB','PREC','DH','NOBEL','TOG','PROMO']]\n",
        "y=df['TIX']\n",
        "\n",
        "X=sm.add_constant(X)\n",
        "model = sm.OLS(y, X).fit()\n",
        "\n",
        "print(model.summary())"
      ],
      "execution_count": null,
      "outputs": [
        {
          "output_type": "stream",
          "text": [
            "                            OLS Regression Results                            \n",
            "==============================================================================\n",
            "Dep. Variable:                    TIX   R-squared:                       0.178\n",
            "Model:                            OLS   Adj. R-squared:                  0.092\n",
            "Method:                 Least Squares   F-statistic:                     2.076\n",
            "Date:                Sat, 26 Sep 2020   Prob (F-statistic):             0.0581\n",
            "Time:                        09:38:45   Log-Likelihood:                -787.28\n",
            "No. Observations:                  75   AIC:                             1591.\n",
            "Df Residuals:                      67   BIC:                             1609.\n",
            "Df Model:                           7                                         \n",
            "Covariance Type:            nonrobust                                         \n",
            "==============================================================================\n",
            "                 coef    std err          t      P>|t|      [0.025      0.975]\n",
            "------------------------------------------------------------------------------\n",
            "const       8242.5827   4358.539      1.891      0.063    -457.098    1.69e+04\n",
            "POS         -988.8368    840.948     -1.176      0.244   -2667.377     689.703\n",
            "GB             5.1190    185.557      0.028      0.978    -365.254     375.492\n",
            "PREC       -6718.0498   5758.522     -1.167      0.247   -1.82e+04    4776.008\n",
            "DH          9100.2573   4146.024      2.195      0.032     824.758    1.74e+04\n",
            "NOBEL        445.7345   2688.059      0.166      0.869   -4919.654    5811.123\n",
            "TOG         2663.7914   2182.742      1.220      0.227   -1692.981    7020.563\n",
            "PROMO       7393.3232   2880.149      2.567      0.012    1644.522    1.31e+04\n",
            "==============================================================================\n",
            "Omnibus:                       47.463   Durbin-Watson:                   1.279\n",
            "Prob(Omnibus):                  0.000   Jarque-Bera (JB):              136.353\n",
            "Skew:                           2.135   Prob(JB):                     2.46e-30\n",
            "Kurtosis:                       8.040   Cond. No.                         61.6\n",
            "==============================================================================\n",
            "\n",
            "Warnings:\n",
            "[1] Standard Errors assume that the covariance matrix of the errors is correctly specified.\n"
          ],
          "name": "stdout"
        }
      ]
    },
    {
      "cell_type": "code",
      "metadata": {
        "id": "5x4Zfb01xK5r",
        "outputId": "fb1826a1-764e-422f-ebf6-6e9a004e223d",
        "colab": {
          "base_uri": "https://localhost:8080/",
          "height": 561
        }
      },
      "source": [
        "X=df[['POS','GB','PREC','DH','NOBEL','TOG','PROMO','YANKS']]\n",
        "\n",
        "y=df['TIX']\n",
        "\n",
        "X=sm.add_constant(X)\n",
        "model = sm.OLS(y, X).fit()\n",
        "\n",
        "print(model.summary())"
      ],
      "execution_count": null,
      "outputs": [
        {
          "output_type": "stream",
          "text": [
            "                            OLS Regression Results                            \n",
            "==============================================================================\n",
            "Dep. Variable:                    TIX   R-squared:                       0.713\n",
            "Model:                            OLS   Adj. R-squared:                  0.678\n",
            "Method:                 Least Squares   F-statistic:                     20.51\n",
            "Date:                Sat, 26 Sep 2020   Prob (F-statistic):           3.38e-15\n",
            "Time:                        09:40:24   Log-Likelihood:                -747.80\n",
            "No. Observations:                  75   AIC:                             1514.\n",
            "Df Residuals:                      66   BIC:                             1534.\n",
            "Df Model:                           8                                         \n",
            "Covariance Type:            nonrobust                                         \n",
            "==============================================================================\n",
            "                 coef    std err          t      P>|t|      [0.025      0.975]\n",
            "------------------------------------------------------------------------------\n",
            "const       8545.9153   2594.549      3.294      0.002    3365.732    1.37e+04\n",
            "POS         -715.3703    501.178     -1.427      0.158   -1716.004     285.264\n",
            "GB           -86.6063    110.761     -0.782      0.437    -307.748     134.535\n",
            "PREC       -4317.9919   3434.558     -1.257      0.213   -1.12e+04    2539.325\n",
            "DH          5472.4969   2489.473      2.198      0.031     502.104    1.04e+04\n",
            "NOBEL      -1191.7466   1606.850     -0.742      0.461   -4399.926    2016.433\n",
            "TOG         1885.9015   1301.160      1.449      0.152    -711.948    4483.751\n",
            "PROMO       4249.8002   1737.653      2.446      0.017     780.464    7719.137\n",
            "YANKS       2.939e+04   2649.328     11.095      0.000    2.41e+04    3.47e+04\n",
            "==============================================================================\n",
            "Omnibus:                       10.890   Durbin-Watson:                   1.782\n",
            "Prob(Omnibus):                  0.004   Jarque-Bera (JB):               10.985\n",
            "Skew:                           0.885   Prob(JB):                      0.00412\n",
            "Kurtosis:                       3.616   Cond. No.                         61.8\n",
            "==============================================================================\n",
            "\n",
            "Warnings:\n",
            "[1] Standard Errors assume that the covariance matrix of the errors is correctly specified.\n"
          ],
          "name": "stdout"
        }
      ]
    }
  ]
}