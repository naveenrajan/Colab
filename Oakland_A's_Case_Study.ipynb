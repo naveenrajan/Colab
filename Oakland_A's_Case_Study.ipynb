{
  "nbformat": 4,
  "nbformat_minor": 0,
  "metadata": {
    "colab": {
      "name": "Oakland A's Case Study.ipynb",
      "provenance": [],
      "collapsed_sections": [],
      "authorship_tag": "ABX9TyOA+wT14IrTyG1jby7VP19J",
      "include_colab_link": true
    },
    "kernelspec": {
      "name": "python3",
      "display_name": "Python 3"
    }
  },
  "cells": [
    {
      "cell_type": "markdown",
      "metadata": {
        "id": "view-in-github",
        "colab_type": "text"
      },
      "source": [
        "<a href=\"https://colab.research.google.com/github/naveenrajan/Colab/blob/master/Oakland_A's_Case_Study.ipynb\" target=\"_parent\"><img src=\"https://colab.research.google.com/assets/colab-badge.svg\" alt=\"Open In Colab\"/></a>"
      ]
    },
    {
      "cell_type": "code",
      "metadata": {
        "id": "q-yRVUiyvseL",
        "outputId": "d5225a9b-0ed7-40f8-b176-8bb9680854d4",
        "colab": {
          "base_uri": "https://localhost:8080/",
          "height": 88
        }
      },
      "source": [
        "import pandas as pd\n",
        "import statsmodels.api as sm\n",
        "from google.colab import drive\n",
        "from sklearn.feature_selection import SelectKBest\n",
        "from sklearn.feature_selection import f_regression\n",
        "from sklearn.model_selection import train_test_split\n",
        "from matplotlib import pyplot\n",
        "import numpy as np\n",
        "drive.mount('/content/drive/')"
      ],
      "execution_count": 1,
      "outputs": [
        {
          "output_type": "stream",
          "text": [
            "/usr/local/lib/python3.6/dist-packages/statsmodels/tools/_testing.py:19: FutureWarning: pandas.util.testing is deprecated. Use the functions in the public API at pandas.testing instead.\n",
            "  import pandas.util.testing as tm\n"
          ],
          "name": "stderr"
        },
        {
          "output_type": "stream",
          "text": [
            "Drive already mounted at /content/drive/; to attempt to forcibly remount, call drive.mount(\"/content/drive/\", force_remount=True).\n"
          ],
          "name": "stdout"
        }
      ]
    },
    {
      "cell_type": "code",
      "metadata": {
        "id": "PJSncyy5wp5A"
      },
      "source": [
        "df=pd.read_excel('drive/My Drive/Colab Notebooks/Oakland A Data 1.xlsx',\n",
        "                 sheet_name='Attendance Data')"
      ],
      "execution_count": 2,
      "outputs": []
    },
    {
      "cell_type": "code",
      "metadata": {
        "id": "7WPJ75KCwsLZ",
        "outputId": "13a1e3ad-afa3-4161-db64-ac57b7502a63",
        "colab": {
          "base_uri": "https://localhost:8080/",
          "height": 255
        }
      },
      "source": [
        "df.head"
      ],
      "execution_count": 3,
      "outputs": [
        {
          "output_type": "execute_result",
          "data": {
            "text/plain": [
              "<bound method NDFrame.head of     NUMBER    TIX  OPP  POS  GB  DOW  TEMP  ...  O7  O8  O9  O10  O11  O12  O13\n",
              "0        1  24415    2    5   1    4    57  ...   0   0   0    0    0    0    0\n",
              "1        2   5729    2    3   1    5    66  ...   0   0   0    0    0    0    0\n",
              "2        3   5783    2    7   1    6    64  ...   0   0   0    0    0    0    0\n",
              "3        4   6300    2    5   1    7    62  ...   0   0   0    0    0    0    0\n",
              "4        5   5260    1    7   2    1    60  ...   0   0   0    0    0    0    0\n",
              "..     ...    ...  ...  ...  ..  ...   ...  ...  ..  ..  ..  ...  ...  ...  ...\n",
              "70      71   3836    8    2  14    3    69  ...   0   1   0    0    0    0    0\n",
              "71      72   3180    8    2  14    4    64  ...   0   1   0    0    0    0    0\n",
              "72      73   5099    6    2  14    5    64  ...   0   0   0    0    0    0    0\n",
              "73      74   4581    6    2  13    6    62  ...   0   0   0    0    0    0    0\n",
              "74      75  10662    6    2  12    7    65  ...   0   0   0    0    0    0    0\n",
              "\n",
              "[75 rows x 29 columns]>"
            ]
          },
          "metadata": {
            "tags": []
          },
          "execution_count": 3
        }
      ]
    },
    {
      "cell_type": "code",
      "metadata": {
        "id": "75j72FBhxKxA",
        "outputId": "1928592c-1273-4d39-d207-e24b2641c00d",
        "colab": {
          "base_uri": "https://localhost:8080/",
          "height": 85
        }
      },
      "source": [
        "df.columns"
      ],
      "execution_count": 4,
      "outputs": [
        {
          "output_type": "execute_result",
          "data": {
            "text/plain": [
              "Index(['NUMBER', 'TIX', 'OPP', 'POS', 'GB', 'DOW', 'TEMP', 'PREC', 'TOG', 'TV',\n",
              "       'PROMO', 'NOBEL', 'YANKS', 'WKEND', 'OD', 'DH', 'O1', 'O2', 'O3', 'O4',\n",
              "       'O5', 'O6', 'O7', 'O8', 'O9', 'O10', 'O11', 'O12', 'O13'],\n",
              "      dtype='object')"
            ]
          },
          "metadata": {
            "tags": []
          },
          "execution_count": 4
        }
      ]
    },
    {
      "cell_type": "code",
      "metadata": {
        "id": "7CRu8HIa1FzN",
        "outputId": "696c2171-0fec-4063-e1e6-bf0e399e1044",
        "colab": {
          "base_uri": "https://localhost:8080/",
          "height": 901
        }
      },
      "source": [
        "#All columns in dataset\n",
        "X=df[['POS', 'GB', 'DOW', 'TEMP', 'PREC', 'TOG', 'TV','PROMO', 'NOBEL', 'YANKS', 'WKEND', 'OD', 'DH', 'O1', 'O2', 'O3', 'O4','O5', 'O6', 'O7', 'O8', 'O9', 'O10', 'O11', 'O12', 'O13']]\n",
        "y=df['TIX']\n",
        "\n",
        "X=sm.add_constant(X)\n",
        "model = sm.OLS(y, X).fit()\n",
        "\n",
        "print(model.summary())"
      ],
      "execution_count": 5,
      "outputs": [
        {
          "output_type": "stream",
          "text": [
            "                            OLS Regression Results                            \n",
            "==============================================================================\n",
            "Dep. Variable:                    TIX   R-squared:                       0.834\n",
            "Model:                            OLS   Adj. R-squared:                  0.755\n",
            "Method:                 Least Squares   F-statistic:                     10.49\n",
            "Date:                Sun, 27 Sep 2020   Prob (F-statistic):           2.72e-12\n",
            "Time:                        07:17:56   Log-Likelihood:                -727.23\n",
            "No. Observations:                  75   AIC:                             1504.\n",
            "Df Residuals:                      50   BIC:                             1562.\n",
            "Df Model:                          24                                         \n",
            "Covariance Type:            nonrobust                                         \n",
            "==============================================================================\n",
            "                 coef    std err          t      P>|t|      [0.025      0.975]\n",
            "------------------------------------------------------------------------------\n",
            "const       3.158e+04   2.06e+04      1.533      0.132   -9799.951     7.3e+04\n",
            "POS         -343.8256    501.447     -0.686      0.496   -1351.012     663.360\n",
            "GB           114.6341    173.678      0.660      0.512    -234.208     463.476\n",
            "DOW        -2510.3706   1093.508     -2.296      0.026   -4706.746    -313.995\n",
            "TEMP        -270.8848    375.222     -0.722      0.474   -1024.541     482.771\n",
            "PREC       -4860.3380   3414.039     -1.424      0.161   -1.17e+04    1996.960\n",
            "TOG        -1875.3233   2060.997     -0.910      0.367   -6014.958    2264.312\n",
            "TV         -1403.4397   2061.884     -0.681      0.499   -5544.856    2737.977\n",
            "PROMO       5729.4987   1750.958      3.272      0.002    2212.595    9246.402\n",
            "NOBEL       -623.7824   1494.845     -0.417      0.678   -3626.266    2378.701\n",
            "YANKS       1.458e+04   1292.465     11.281      0.000     1.2e+04    1.72e+04\n",
            "WKEND       9681.8254   3831.410      2.527      0.015    1986.212    1.74e+04\n",
            "OD          2.166e+04   6444.636      3.361      0.001    8713.565    3.46e+04\n",
            "DH          9298.5666   2491.865      3.732      0.000    4293.509    1.43e+04\n",
            "O1         -2507.4120   2473.941     -1.014      0.316   -7476.468    2461.644\n",
            "O2          2017.7840   3442.117      0.586      0.560   -4895.911    8931.479\n",
            "O3           135.0997   2943.202      0.046      0.964   -5776.496    6046.695\n",
            "O4          1.458e+04   1292.465     11.281      0.000     1.2e+04    1.72e+04\n",
            "O5          2530.3084   2838.924      0.891      0.377   -3171.838    8232.454\n",
            "O6          -353.1332   2492.050     -0.142      0.888   -5358.563    4652.297\n",
            "O7          -514.1298   2692.299     -0.191      0.849   -5921.772    4893.513\n",
            "O8            46.2290   3616.513      0.013      0.990   -7217.752    7310.210\n",
            "O9          7769.8803   2671.604      2.908      0.005    2403.806    1.31e+04\n",
            "O10         1526.2176   2256.074      0.676      0.502   -3005.240    6057.675\n",
            "O11         3430.0676   2913.260      1.177      0.245   -2421.388    9281.523\n",
            "O12        -1279.2132   2085.230     -0.613      0.542   -5467.522    2909.095\n",
            "O13         4194.1834   2121.634      1.977      0.054     -67.243    8455.610\n",
            "==============================================================================\n",
            "Omnibus:                        3.945   Durbin-Watson:                   2.209\n",
            "Prob(Omnibus):                  0.139   Jarque-Bera (JB):                3.115\n",
            "Skew:                           0.441   Prob(JB):                        0.211\n",
            "Kurtosis:                       3.466   Cond. No.                     1.00e+16\n",
            "==============================================================================\n",
            "\n",
            "Warnings:\n",
            "[1] Standard Errors assume that the covariance matrix of the errors is correctly specified.\n",
            "[2] The smallest eigenvalue is 2.96e-27. This might indicate that there are\n",
            "strong multicollinearity problems or that the design matrix is singular.\n"
          ],
          "name": "stdout"
        }
      ]
    },
    {
      "cell_type": "code",
      "metadata": {
        "id": "5x4Zfb01xK5r",
        "outputId": "35b77112-29a2-4fb3-9bf9-096ee1af1863",
        "colab": {
          "base_uri": "https://localhost:8080/",
          "height": 561
        }
      },
      "source": [
        "X=df[['POS','GB','PREC','DH','NOBEL','TOG','PROMO','YANKS']]\n",
        "\n",
        "y=df['TIX']\n",
        "\n",
        "X=sm.add_constant(X)\n",
        "model = sm.OLS(y, X).fit()\n",
        "\n",
        "print(model.summary())"
      ],
      "execution_count": 6,
      "outputs": [
        {
          "output_type": "stream",
          "text": [
            "                            OLS Regression Results                            \n",
            "==============================================================================\n",
            "Dep. Variable:                    TIX   R-squared:                       0.713\n",
            "Model:                            OLS   Adj. R-squared:                  0.678\n",
            "Method:                 Least Squares   F-statistic:                     20.51\n",
            "Date:                Sun, 27 Sep 2020   Prob (F-statistic):           3.38e-15\n",
            "Time:                        07:17:56   Log-Likelihood:                -747.80\n",
            "No. Observations:                  75   AIC:                             1514.\n",
            "Df Residuals:                      66   BIC:                             1534.\n",
            "Df Model:                           8                                         \n",
            "Covariance Type:            nonrobust                                         \n",
            "==============================================================================\n",
            "                 coef    std err          t      P>|t|      [0.025      0.975]\n",
            "------------------------------------------------------------------------------\n",
            "const       8545.9153   2594.549      3.294      0.002    3365.732    1.37e+04\n",
            "POS         -715.3703    501.178     -1.427      0.158   -1716.004     285.264\n",
            "GB           -86.6063    110.761     -0.782      0.437    -307.748     134.535\n",
            "PREC       -4317.9919   3434.558     -1.257      0.213   -1.12e+04    2539.325\n",
            "DH          5472.4969   2489.473      2.198      0.031     502.104    1.04e+04\n",
            "NOBEL      -1191.7466   1606.850     -0.742      0.461   -4399.926    2016.433\n",
            "TOG         1885.9015   1301.160      1.449      0.152    -711.948    4483.751\n",
            "PROMO       4249.8002   1737.653      2.446      0.017     780.464    7719.137\n",
            "YANKS       2.939e+04   2649.328     11.095      0.000    2.41e+04    3.47e+04\n",
            "==============================================================================\n",
            "Omnibus:                       10.890   Durbin-Watson:                   1.782\n",
            "Prob(Omnibus):                  0.004   Jarque-Bera (JB):               10.985\n",
            "Skew:                           0.885   Prob(JB):                      0.00412\n",
            "Kurtosis:                       3.616   Cond. No.                         61.8\n",
            "==============================================================================\n",
            "\n",
            "Warnings:\n",
            "[1] Standard Errors assume that the covariance matrix of the errors is correctly specified.\n"
          ],
          "name": "stdout"
        }
      ]
    },
    {
      "cell_type": "code",
      "metadata": {
        "id": "KWUlOb0hzcXI",
        "outputId": "ab5edea2-58b2-4602-a696-8c2b6b4be13b",
        "colab": {
          "base_uri": "https://localhost:8080/",
          "height": 544
        }
      },
      "source": [
        "X=df[['POS','GB','PREC','DH','TOG','PROMO','YANKS']]\n",
        "\n",
        "y=df['TIX']\n",
        "\n",
        "X=sm.add_constant(X)\n",
        "model = sm.OLS(y, X).fit()\n",
        "\n",
        "print(model.summary())"
      ],
      "execution_count": 7,
      "outputs": [
        {
          "output_type": "stream",
          "text": [
            "                            OLS Regression Results                            \n",
            "==============================================================================\n",
            "Dep. Variable:                    TIX   R-squared:                       0.711\n",
            "Model:                            OLS   Adj. R-squared:                  0.681\n",
            "Method:                 Least Squares   F-statistic:                     23.52\n",
            "Date:                Sun, 27 Sep 2020   Prob (F-statistic):           8.68e-16\n",
            "Time:                        07:17:56   Log-Likelihood:                -748.11\n",
            "No. Observations:                  75   AIC:                             1512.\n",
            "Df Residuals:                      67   BIC:                             1531.\n",
            "Df Model:                           7                                         \n",
            "Covariance Type:            nonrobust                                         \n",
            "==============================================================================\n",
            "                 coef    std err          t      P>|t|      [0.025      0.975]\n",
            "------------------------------------------------------------------------------\n",
            "const       8516.4107   2585.518      3.294      0.002    3355.695    1.37e+04\n",
            "POS         -735.2530    498.777     -1.474      0.145   -1730.817     260.310\n",
            "GB           -87.6794    110.379     -0.794      0.430    -307.997     132.638\n",
            "PREC       -4435.6979   3419.350     -1.297      0.199   -1.13e+04    2389.354\n",
            "DH          5120.6394   2435.631      2.102      0.039     259.100    9982.179\n",
            "TOG         1814.4101   1293.220      1.403      0.165    -766.868    4395.688\n",
            "PROMO       4204.1908   1730.724      2.429      0.018     749.651    7658.730\n",
            "YANKS       2.921e+04   2629.256     11.111      0.000     2.4e+04    3.45e+04\n",
            "==============================================================================\n",
            "Omnibus:                       11.251   Durbin-Watson:                   1.790\n",
            "Prob(Omnibus):                  0.004   Jarque-Bera (JB):               11.430\n",
            "Skew:                           0.895   Prob(JB):                      0.00330\n",
            "Kurtosis:                       3.673   Cond. No.                         61.8\n",
            "==============================================================================\n",
            "\n",
            "Warnings:\n",
            "[1] Standard Errors assume that the covariance matrix of the errors is correctly specified.\n"
          ],
          "name": "stdout"
        }
      ]
    },
    {
      "cell_type": "code",
      "metadata": {
        "id": "TTQ9aAXhzuNJ",
        "outputId": "b5f6c76e-7da0-46fc-cda0-7d77430895ff",
        "colab": {
          "base_uri": "https://localhost:8080/",
          "height": 782
        }
      },
      "source": [
        "X=df[['DH','DOW','PREC','TOG','PROMO','O1','O2','O3','O4','O5','O6','O7','O8','O9','O10','O11','O12','O13','YANKS']]\n",
        "\n",
        "y=df['TIX']\n",
        "\n",
        "X=sm.add_constant(X)\n",
        "model = sm.OLS(y, X).fit()\n",
        "\n",
        "print(model.summary())"
      ],
      "execution_count": 8,
      "outputs": [
        {
          "output_type": "stream",
          "text": [
            "                            OLS Regression Results                            \n",
            "==============================================================================\n",
            "Dep. Variable:                    TIX   R-squared:                       0.774\n",
            "Model:                            OLS   Adj. R-squared:                  0.707\n",
            "Method:                 Least Squares   F-statistic:                     11.50\n",
            "Date:                Sun, 27 Sep 2020   Prob (F-statistic):           9.77e-13\n",
            "Time:                        07:17:56   Log-Likelihood:                -738.83\n",
            "No. Observations:                  75   AIC:                             1514.\n",
            "Df Residuals:                      57   BIC:                             1555.\n",
            "Df Model:                          17                                         \n",
            "Covariance Type:            nonrobust                                         \n",
            "==============================================================================\n",
            "                 coef    std err          t      P>|t|      [0.025      0.975]\n",
            "------------------------------------------------------------------------------\n",
            "const       4565.9041   3262.164      1.400      0.167   -1966.467    1.11e+04\n",
            "DH          7251.9960   2566.138      2.826      0.006    2113.394    1.24e+04\n",
            "DOW          220.3980    384.668      0.573      0.569    -549.886     990.682\n",
            "PREC       -2926.8472   3474.363     -0.842      0.403   -9884.140    4030.446\n",
            "TOG         2139.4742   1531.792      1.397      0.168    -927.885    5206.834\n",
            "PROMO       5207.8936   1863.001      2.795      0.007    1477.298    8938.489\n",
            "O1         -4469.3379   2123.385     -2.105      0.040   -8721.342    -217.334\n",
            "O2          1235.6159   1996.077      0.619      0.538   -2761.459    5232.691\n",
            "O3         -3523.4409   2522.944     -1.397      0.168   -8575.548    1528.667\n",
            "O4            1.4e+04   1223.678     11.440      0.000    1.15e+04    1.64e+04\n",
            "O5          -573.9571   2330.663     -0.246      0.806   -5241.030    4093.116\n",
            "O6         -2098.8386   2111.868     -0.994      0.325   -6327.781    2130.104\n",
            "O7         -2152.0888   2336.991     -0.921      0.361   -6831.833    2527.655\n",
            "O8         -4444.8886   2117.747     -2.099      0.040   -8685.603    -204.174\n",
            "O9          4256.4270   2144.947      1.984      0.052     -38.754    8551.608\n",
            "O10          492.3458   2176.436      0.226      0.822   -3865.892    4850.584\n",
            "O11          873.3026   2163.285      0.404      0.688   -3458.600    5205.206\n",
            "O12        -2379.6283   2105.223     -1.130      0.263   -6595.265    1836.008\n",
            "O13         3352.0384   2105.223      1.592      0.117    -863.598    7567.675\n",
            "YANKS         1.4e+04   1223.678     11.440      0.000    1.15e+04    1.64e+04\n",
            "==============================================================================\n",
            "Omnibus:                        6.524   Durbin-Watson:                   2.100\n",
            "Prob(Omnibus):                  0.038   Jarque-Bera (JB):                5.771\n",
            "Skew:                           0.595   Prob(JB):                       0.0558\n",
            "Kurtosis:                       3.657   Cond. No.                     7.98e+16\n",
            "==============================================================================\n",
            "\n",
            "Warnings:\n",
            "[1] Standard Errors assume that the covariance matrix of the errors is correctly specified.\n",
            "[2] The smallest eigenvalue is 2.91e-31. This might indicate that there are\n",
            "strong multicollinearity problems or that the design matrix is singular.\n"
          ],
          "name": "stdout"
        }
      ]
    },
    {
      "cell_type": "code",
      "metadata": {
        "id": "zyEhPh-V2Zxt",
        "outputId": "7ecbc38e-3dcd-427f-ba9c-63bb63d9fb3c",
        "colab": {
          "base_uri": "https://localhost:8080/",
          "height": 782
        }
      },
      "source": [
        "X=df[['PREC','TEMP','PROMO','O1','O2','O3','O4','O5','O6','O7','O8','O9','O10','O11','O12','O13','NOBEL','OD','DH']]\n",
        "y=df['TIX']\n",
        "\n",
        "X=sm.add_constant(X)\n",
        "model = sm.OLS(y, X).fit()\n",
        "\n",
        "print(model.summary())"
      ],
      "execution_count": 9,
      "outputs": [
        {
          "output_type": "stream",
          "text": [
            "                            OLS Regression Results                            \n",
            "==============================================================================\n",
            "Dep. Variable:                    TIX   R-squared:                       0.803\n",
            "Model:                            OLS   Adj. R-squared:                  0.740\n",
            "Method:                 Least Squares   F-statistic:                     12.67\n",
            "Date:                Sun, 27 Sep 2020   Prob (F-statistic):           1.00e-13\n",
            "Time:                        07:17:56   Log-Likelihood:                -733.74\n",
            "No. Observations:                  75   AIC:                             1505.\n",
            "Df Residuals:                      56   BIC:                             1550.\n",
            "Df Model:                          18                                         \n",
            "Covariance Type:            nonrobust                                         \n",
            "==============================================================================\n",
            "                 coef    std err          t      P>|t|      [0.025      0.975]\n",
            "------------------------------------------------------------------------------\n",
            "const       1.988e+04   1.37e+04      1.452      0.152   -7540.536    4.73e+04\n",
            "PREC       -3772.0427   3383.418     -1.115      0.270   -1.05e+04    3005.759\n",
            "TEMP        -184.2934    237.731     -0.775      0.441    -660.526     291.939\n",
            "PROMO       5398.5452   1780.858      3.031      0.004    1831.058    8966.032\n",
            "O1         -4351.2065   2157.437     -2.017      0.049   -8673.073     -29.340\n",
            "O2          -340.9414   2610.904     -0.131      0.897   -5571.211    4889.328\n",
            "O3         -2917.7911   2443.426     -1.194      0.237   -7812.562    1976.980\n",
            "O4           2.85e+04   2402.526     11.864      0.000    2.37e+04    3.33e+04\n",
            "O5          -581.7379   2289.201     -0.254      0.800   -5167.559    4004.083\n",
            "O6         -1705.9795   2319.099     -0.736      0.465   -6351.693    2939.734\n",
            "O7         -2212.7380   2386.435     -0.927      0.358   -6993.342    2567.866\n",
            "O8         -3111.4505   3014.974     -1.032      0.307   -9151.168    2928.268\n",
            "O9          4828.8549   2352.166      2.053      0.045     116.900    9540.810\n",
            "O10          509.7391   2212.657      0.230      0.819   -3922.746    4942.224\n",
            "O11         1161.3031   2291.765      0.507      0.614   -3429.654    5752.261\n",
            "O12        -2765.4276   2091.867     -1.322      0.192   -6955.940    1425.085\n",
            "O13         2862.4538   2108.663      1.357      0.180   -1361.705    7086.613\n",
            "NOBEL       -403.5024   1518.000     -0.266      0.791   -3444.422    2637.418\n",
            "OD          1.538e+04   5652.397      2.721      0.009    4059.521    2.67e+04\n",
            "DH          7645.2238   2429.895      3.146      0.003    2777.559    1.25e+04\n",
            "==============================================================================\n",
            "Omnibus:                        3.991   Durbin-Watson:                   2.269\n",
            "Prob(Omnibus):                  0.136   Jarque-Bera (JB):                3.199\n",
            "Skew:                           0.393   Prob(JB):                        0.202\n",
            "Kurtosis:                       3.637   Cond. No.                     7.23e+17\n",
            "==============================================================================\n",
            "\n",
            "Warnings:\n",
            "[1] Standard Errors assume that the covariance matrix of the errors is correctly specified.\n",
            "[2] The smallest eigenvalue is 5.54e-31. This might indicate that there are\n",
            "strong multicollinearity problems or that the design matrix is singular.\n"
          ],
          "name": "stdout"
        }
      ]
    },
    {
      "cell_type": "code",
      "metadata": {
        "id": "tiC303wL-n3O",
        "outputId": "0befbf0e-4a49-49c7-f7a7-3223cb5ad33d",
        "colab": {
          "base_uri": "https://localhost:8080/",
          "height": 442
        }
      },
      "source": [
        "X=df[['NOBEL']]\n",
        "y=df['TIX']\n",
        "\n",
        "X=sm.add_constant(X)\n",
        "model = sm.OLS(y, X).fit()\n",
        "\n",
        "print(model.summary())"
      ],
      "execution_count": 10,
      "outputs": [
        {
          "output_type": "stream",
          "text": [
            "                            OLS Regression Results                            \n",
            "==============================================================================\n",
            "Dep. Variable:                    TIX   R-squared:                       0.006\n",
            "Model:                            OLS   Adj. R-squared:                 -0.008\n",
            "Method:                 Least Squares   F-statistic:                    0.4294\n",
            "Date:                Sun, 27 Sep 2020   Prob (F-statistic):              0.514\n",
            "Time:                        07:17:56   Log-Likelihood:                -794.42\n",
            "No. Observations:                  75   AIC:                             1593.\n",
            "Df Residuals:                      73   BIC:                             1597.\n",
            "Df Model:                           1                                         \n",
            "Covariance Type:            nonrobust                                         \n",
            "==============================================================================\n",
            "                 coef    std err          t      P>|t|      [0.025      0.975]\n",
            "------------------------------------------------------------------------------\n",
            "const       1.086e+04   1271.632      8.540      0.000    8324.997    1.34e+04\n",
            "NOBEL       1804.2066   2753.164      0.655      0.514   -3682.842    7291.255\n",
            "==============================================================================\n",
            "Omnibus:                       50.499   Durbin-Watson:                   1.165\n",
            "Prob(Omnibus):                  0.000   Jarque-Bera (JB):              155.186\n",
            "Skew:                           2.261   Prob(JB):                     2.00e-34\n",
            "Kurtosis:                       8.405   Cond. No.                         2.57\n",
            "==============================================================================\n",
            "\n",
            "Warnings:\n",
            "[1] Standard Errors assume that the covariance matrix of the errors is correctly specified.\n"
          ],
          "name": "stdout"
        }
      ]
    },
    {
      "cell_type": "code",
      "metadata": {
        "id": "9F9lvNXSH8mp"
      },
      "source": [
        "from sklearn.feature_selection import SelectKBest\n",
        "from sklearn.model_selection import train_test_split\n",
        "from sklearn.feature_selection import mutual_info_regression\n",
        "\n",
        "X=df[['POS', 'GB', 'DOW', 'TEMP', 'PREC', 'TOG', 'TV','PROMO', 'NOBEL', 'YANKS', 'WKEND', 'OD', 'DH', 'O1', 'O2', 'O3', 'O4','O5', 'O6', 'O7', 'O8', 'O9', 'O10', 'O11', 'O12', 'O13']]\n",
        "y=df['TIX']\n",
        "\n",
        "X_train, X_test, y_train, y_test = train_test_split(X, y, test_size=0.33, random_state=1)\n"
      ],
      "execution_count": 11,
      "outputs": []
    },
    {
      "cell_type": "code",
      "metadata": {
        "id": "GMKRmlUoH8qc",
        "outputId": "dcdc7b28-0ce9-4647-ae6b-37f2ce62325e",
        "colab": {
          "base_uri": "https://localhost:8080/",
          "height": 707
        }
      },
      "source": [
        "fs = SelectKBest(score_func=mutual_info_regression, k='all')\n",
        "# learn relationship from training data\n",
        "fs.fit(X_train, y_train)\n",
        "# transform train input data\n",
        "X_train_fs = fs.transform(X_train)\n",
        "# transform test input data\n",
        "X_test_fs = fs.transform(X_test)\n",
        "\n",
        "# what are scores for the features\n",
        "for i in range(len(fs.scores_)):\n",
        "\tprint(i,X.columns[i], fs.scores_[i])\n",
        "# plot the scores\n",
        "pyplot.bar([i for i in range(len(fs.scores_))], fs.scores_)\n",
        "pyplot.show()"
      ],
      "execution_count": 12,
      "outputs": [
        {
          "output_type": "stream",
          "text": [
            "0 POS 0.0\n",
            "1 GB 0.0\n",
            "2 DOW 0.20202541489667913\n",
            "3 TEMP 0.010561958629559776\n",
            "4 PREC 0.019591836734694335\n",
            "5 TOG 0.0\n",
            "6 TV 0.0\n",
            "7 PROMO 0.0\n",
            "8 NOBEL 0.0\n",
            "9 YANKS 0.2583995374448327\n",
            "10 WKEND 0.04390212432208007\n",
            "11 OD 0.0\n",
            "12 DH 0.02001736864958703\n",
            "13 O1 0.055416933790727985\n",
            "14 O2 0.021620058653430085\n",
            "15 O3 0.0\n",
            "16 O4 0.2583995374448327\n",
            "17 O5 0.0027879927976224295\n",
            "18 O6 0.0\n",
            "19 O7 0.026501282972466678\n",
            "20 O8 0.012007828198405956\n",
            "21 O9 0.0\n",
            "22 O10 0.006258503401360471\n",
            "23 O11 0.0\n",
            "24 O12 0.0\n",
            "25 O13 0.0\n"
          ],
          "name": "stdout"
        },
        {
          "output_type": "display_data",
          "data": {
            "image/png": "[encoded data removed]",
            "text/plain": [
              "<Figure size 432x288 with 1 Axes>"
            ]
          },
          "metadata": {
            "tags": [],
            "needs_background": "light"
          }
        }
      ]
    },
    {
      "cell_type": "code",
      "metadata": {
        "id": "YaM3dqhoM2zi",
        "outputId": "ef7a2b8a-89fe-4b5b-894a-44401f359d8e",
        "colab": {
          "base_uri": "https://localhost:8080/",
          "height": 561
        }
      },
      "source": [
        "X=df[['DOW','TEMP','PREC','WKEND','DH','YANKS']]\n",
        "y=df['TIX']\n",
        "\n",
        "X=sm.add_constant(X)\n",
        "model = sm.OLS(y, X).fit()\n",
        "\n",
        "print(model.summary())"
      ],
      "execution_count": 13,
      "outputs": [
        {
          "output_type": "stream",
          "text": [
            "                            OLS Regression Results                            \n",
            "==============================================================================\n",
            "Dep. Variable:                    TIX   R-squared:                       0.684\n",
            "Model:                            OLS   Adj. R-squared:                  0.656\n",
            "Method:                 Least Squares   F-statistic:                     24.57\n",
            "Date:                Sun, 27 Sep 2020   Prob (F-statistic):           2.85e-15\n",
            "Time:                        07:17:56   Log-Likelihood:                -751.40\n",
            "No. Observations:                  75   AIC:                             1517.\n",
            "Df Residuals:                      68   BIC:                             1533.\n",
            "Df Model:                           6                                         \n",
            "Covariance Type:            nonrobust                                         \n",
            "==============================================================================\n",
            "                 coef    std err          t      P>|t|      [0.025      0.975]\n",
            "------------------------------------------------------------------------------\n",
            "const       2.625e+04   1.32e+04      1.984      0.051    -152.826    5.27e+04\n",
            "DOW         -822.2896    744.115     -1.105      0.273   -2307.147     662.568\n",
            "TEMP        -249.4187    210.572     -1.184      0.240    -669.609     170.771\n",
            "PREC       -5444.9457   3617.705     -1.505      0.137   -1.27e+04    1774.071\n",
            "WKEND       3383.9089   3053.665      1.108      0.272   -2709.585    9477.403\n",
            "DH          5030.5388   2548.675      1.974      0.052     -55.263    1.01e+04\n",
            "YANKS       3.013e+04   2691.410     11.194      0.000    2.48e+04    3.55e+04\n",
            "==============================================================================\n",
            "Omnibus:                        8.226   Durbin-Watson:                   1.736\n",
            "Prob(Omnibus):                  0.016   Jarque-Bera (JB):                7.927\n",
            "Skew:                           0.780   Prob(JB):                       0.0190\n",
            "Kurtosis:                       3.323   Cond. No.                     1.25e+03\n",
            "==============================================================================\n",
            "\n",
            "Warnings:\n",
            "[1] Standard Errors assume that the covariance matrix of the errors is correctly specified.\n",
            "[2] The condition number is large, 1.25e+03. This might indicate that there are\n",
            "strong multicollinearity or other numerical problems.\n"
          ],
          "name": "stdout"
        }
      ]
    },
    {
      "cell_type": "code",
      "metadata": {
        "id": "pPi98ULlQGiT",
        "outputId": "5e6b6793-cf78-4c34-84bd-92c0c0069422",
        "colab": {
          "base_uri": "https://localhost:8080/",
          "height": 34
        }
      },
      "source": [
        "# evaluate RFE for regression\n",
        "from numpy import mean\n",
        "from numpy import std\n",
        "from sklearn.datasets import make_regression\n",
        "from sklearn.model_selection import cross_val_score\n",
        "from sklearn.model_selection import RepeatedKFold\n",
        "from sklearn.feature_selection import RFE\n",
        "from sklearn import linear_model \n",
        "from sklearn.pipeline import Pipeline\n",
        "\n",
        "X=df[['POS', 'GB', 'DOW', 'TEMP', 'PREC', 'TOG', 'TV','PROMO', 'NOBEL', 'YANKS', 'WKEND', 'OD', 'DH', 'O1', 'O2', 'O3', 'O4','O5', 'O6', 'O7', 'O8', 'O9', 'O10', 'O11', 'O12', 'O13']]\n",
        "y=df['TIX']\n",
        "\n",
        "# create pipeline\n",
        "rfe = RFE(estimator=linear_model.LinearRegression(), n_features_to_select=10)\n",
        "model = linear_model.LinearRegression()\n",
        "pipeline = Pipeline(steps=[('s',rfe),('m',model)])\n",
        "# evaluate model\n",
        "cv = RepeatedKFold(n_splits=10, n_repeats=3, random_state=1)\n",
        "n_scores = cross_val_score(pipeline, X, y, scoring='neg_mean_absolute_error', cv=cv, n_jobs=-1, error_score='raise')\n",
        "# report performance\n",
        "print('MAE: %.3f (%.3f)' % (mean(n_scores), std(n_scores)))"
      ],
      "execution_count": 14,
      "outputs": [
        {
          "output_type": "stream",
          "text": [
            "MAE: -4613.476 (1590.980)\n"
          ],
          "name": "stdout"
        }
      ]
    },
    {
      "cell_type": "code",
      "metadata": {
        "id": "KjiUGygPQG4q",
        "outputId": "cdf5bfce-cd5b-4b4f-ca7e-b508ef420e42",
        "colab": {
          "base_uri": "https://localhost:8080/",
          "height": 459
        }
      },
      "source": [
        "# summarize all features\n",
        "rfe.fit(X,y)\n",
        "for i in range(X.shape[1]):\n",
        "\tprint('Column: %d, Selected %s, Rank: %.3f' % (i, rfe.support_[i], rfe.ranking_[i]))"
      ],
      "execution_count": 15,
      "outputs": [
        {
          "output_type": "stream",
          "text": [
            "Column: 0, Selected False, Rank: 13.000\n",
            "Column: 1, Selected False, Rank: 16.000\n",
            "Column: 2, Selected False, Rank: 7.000\n",
            "Column: 3, Selected False, Rank: 15.000\n",
            "Column: 4, Selected True, Rank: 1.000\n",
            "Column: 5, Selected False, Rank: 9.000\n",
            "Column: 6, Selected False, Rank: 10.000\n",
            "Column: 7, Selected True, Rank: 1.000\n",
            "Column: 8, Selected False, Rank: 12.000\n",
            "Column: 9, Selected True, Rank: 1.000\n",
            "Column: 10, Selected False, Rank: 6.000\n",
            "Column: 11, Selected True, Rank: 1.000\n",
            "Column: 12, Selected True, Rank: 1.000\n",
            "Column: 13, Selected True, Rank: 1.000\n",
            "Column: 14, Selected False, Rank: 8.000\n",
            "Column: 15, Selected False, Rank: 2.000\n",
            "Column: 16, Selected True, Rank: 1.000\n",
            "Column: 17, Selected False, Rank: 17.000\n",
            "Column: 18, Selected False, Rank: 5.000\n",
            "Column: 19, Selected False, Rank: 4.000\n",
            "Column: 20, Selected True, Rank: 1.000\n",
            "Column: 21, Selected True, Rank: 1.000\n",
            "Column: 22, Selected False, Rank: 14.000\n",
            "Column: 23, Selected False, Rank: 11.000\n",
            "Column: 24, Selected False, Rank: 3.000\n",
            "Column: 25, Selected True, Rank: 1.000\n"
          ],
          "name": "stdout"
        }
      ]
    },
    {
      "cell_type": "code",
      "metadata": {
        "id": "BBwdnl5fW4WI"
      },
      "source": [
        "from sklearn.preprocessing import MinMaxScaler\n",
        "\n",
        "# Define dictionary to store our rankings\n",
        "\n",
        "ranks = {}\n",
        "# Create our function which stores the feature rankings to the ranks dictionary\n",
        "def ranking(ranks, names, order=1):\n",
        "    minmax = MinMaxScaler()\n",
        "    ranks = minmax.fit_transform(order*np.array([ranks]).T).T[0]\n",
        "    ranks = map(lambda x: round(x,2), ranks)\n",
        "    return dict(zip(names, ranks))"
      ],
      "execution_count": 16,
      "outputs": []
    },
    {
      "cell_type": "code",
      "metadata": {
        "id": "dFB8iGPRWnLr",
        "outputId": "3945d5b5-e260-4165-f388-551f017465a1",
        "colab": {
          "base_uri": "https://localhost:8080/",
          "height": 442
        }
      },
      "source": [
        "colnames = df.columns\n",
        "\n",
        "# Construct our Linear Regression model\n",
        "lr = linear_model.LinearRegression(normalize=True)\n",
        "lr.fit(X,y)\n",
        "#stop the search when only the last feature is left\n",
        "rfe = RFE(lr, n_features_to_select=1, verbose =3 )\n",
        "rfe.fit(X,y)\n",
        "ranks[\"RFE\"] = ranking(list(map(float, rfe.ranking_)), colnames, order=-1)"
      ],
      "execution_count": 17,
      "outputs": [
        {
          "output_type": "stream",
          "text": [
            "Fitting estimator with 26 features.\n",
            "Fitting estimator with 25 features.\n",
            "Fitting estimator with 24 features.\n",
            "Fitting estimator with 23 features.\n",
            "Fitting estimator with 22 features.\n",
            "Fitting estimator with 21 features.\n",
            "Fitting estimator with 20 features.\n",
            "Fitting estimator with 19 features.\n",
            "Fitting estimator with 18 features.\n",
            "Fitting estimator with 17 features.\n",
            "Fitting estimator with 16 features.\n",
            "Fitting estimator with 15 features.\n",
            "Fitting estimator with 14 features.\n",
            "Fitting estimator with 13 features.\n",
            "Fitting estimator with 12 features.\n",
            "Fitting estimator with 11 features.\n",
            "Fitting estimator with 10 features.\n",
            "Fitting estimator with 9 features.\n",
            "Fitting estimator with 8 features.\n",
            "Fitting estimator with 7 features.\n",
            "Fitting estimator with 6 features.\n",
            "Fitting estimator with 5 features.\n",
            "Fitting estimator with 4 features.\n",
            "Fitting estimator with 3 features.\n",
            "Fitting estimator with 2 features.\n"
          ],
          "name": "stdout"
        }
      ]
    },
    {
      "cell_type": "code",
      "metadata": {
        "id": "SC7CAaeFWnN0",
        "outputId": "c0ac8c53-668a-4d5d-a798-2e044c01f1cd",
        "colab": {
          "base_uri": "https://localhost:8080/",
          "height": 54
        }
      },
      "source": [
        "print(ranks[\"RFE\"])"
      ],
      "execution_count": 18,
      "outputs": [
        {
          "output_type": "stream",
          "text": [
            "{'NUMBER': 0.16, 'TIX': 0.04, 'OPP': 0.4, 'POS': 0.08, 'GB': 0.64, 'DOW': 0.32, 'TEMP': 0.28, 'PREC': 0.8, 'TOG': 0.2, 'TV': 1.0, 'PROMO': 0.44, 'NOBEL': 0.92, 'YANKS': 0.84, 'WKEND': 0.72, 'OD': 0.36, 'DH': 0.6, 'O1': 0.96, 'O2': 0.0, 'O3': 0.48, 'O4': 0.52, 'O5': 0.68, 'O6': 0.88, 'O7': 0.12, 'O8': 0.24, 'O9': 0.56, 'O10': 0.76}\n"
          ],
          "name": "stdout"
        }
      ]
    },
    {
      "cell_type": "code",
      "metadata": {
        "id": "bAPYf4ePWnTb",
        "outputId": "f54942de-f185-45f8-c75d-100a01785937",
        "colab": {
          "base_uri": "https://localhost:8080/",
          "height": 54
        }
      },
      "source": [
        "sort=(sorted(ranks[\"RFE\"].items(), key = \n",
        "             lambda kv:(kv[1], kv[0])))\n",
        "print(sort)"
      ],
      "execution_count": 19,
      "outputs": [
        {
          "output_type": "stream",
          "text": [
            "[('O2', 0.0), ('TIX', 0.04), ('POS', 0.08), ('O7', 0.12), ('NUMBER', 0.16), ('TOG', 0.2), ('O8', 0.24), ('TEMP', 0.28), ('DOW', 0.32), ('OD', 0.36), ('OPP', 0.4), ('PROMO', 0.44), ('O3', 0.48), ('O4', 0.52), ('O9', 0.56), ('DH', 0.6), ('GB', 0.64), ('O5', 0.68), ('WKEND', 0.72), ('O10', 0.76), ('PREC', 0.8), ('YANKS', 0.84), ('O6', 0.88), ('NOBEL', 0.92), ('O1', 0.96), ('TV', 1.0)]\n"
          ],
          "name": "stdout"
        }
      ]
    }
  ]
}