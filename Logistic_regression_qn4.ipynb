{
  "nbformat": 4,
  "nbformat_minor": 0,
  "metadata": {
    "colab": {
      "name": "qn4.ipynb",
      "provenance": [],
      "authorship_tag": "ABX9TyNBYd0KLlt/kqazUvLvc8wS",
      "include_colab_link": true
    },
    "kernelspec": {
      "name": "python3",
      "display_name": "Python 3"
    }
  },
  "cells": [
    {
      "cell_type": "markdown",
      "metadata": {
        "id": "view-in-github",
        "colab_type": "text"
      },
      "source": [
        "<a href=\"https://colab.research.google.com/github/naveenrajan/Colab/blob/master/Logistic_regression_qn4.ipynb\" target=\"_parent\"><img src=\"https://colab.research.google.com/assets/colab-badge.svg\" alt=\"Open In Colab\"/></a>"
      ]
    },
    {
      "cell_type": "code",
      "metadata": {
        "id": "l0wfIg54-mPj"
      },
      "source": [
        "import pandas as pd\n",
        "import statsmodels.api as sm "
      ],
      "execution_count": 97,
      "outputs": []
    },
    {
      "cell_type": "code",
      "metadata": {
        "id": "IekVqbcH-8nA",
        "outputId": "eb1f03b3-6fad-49a1-99e7-84d66411ff00",
        "colab": {
          "base_uri": "https://localhost:8080/",
          "height": 34
        }
      },
      "source": [
        "from google.colab import drive\n",
        "drive.mount('/content/drive/')"
      ],
      "execution_count": 98,
      "outputs": [
        {
          "output_type": "stream",
          "text": [
            "Drive already mounted at /content/drive/; to attempt to forcibly remount, call drive.mount(\"/content/drive/\", force_remount=True).\n"
          ],
          "name": "stdout"
        }
      ]
    },
    {
      "cell_type": "code",
      "metadata": {
        "id": "qm7-EVo6-rmc"
      },
      "source": [
        "df=pd.read_excel('drive/My Drive/Eureka Forbes 10K Training Data.xlsx')\n",
        "df=df.dropna()"
      ],
      "execution_count": 99,
      "outputs": []
    },
    {
      "cell_type": "code",
      "metadata": {
        "id": "QqKenJ0C_Y0q"
      },
      "source": [
        "#Country label encoding\n",
        "df['country'] = df['country'].astype('category')\n",
        "df['country'] = df['country'].cat.codes\n",
        "df['country']=df['country'].astype(int)\n",
        "\n",
        "#Device label encoding\n",
        "df['device'] = df['device'].astype('category')\n",
        "df['device'] = df['device'].cat.codes\n",
        "df['device']=df['device'].astype(int)\n",
        "\n",
        "#Region label encoding\n",
        "df['region'] = df['region'].astype('category')\n",
        "df['region'] = df['region'].cat.codes\n",
        "\n",
        "#sourceMedium label encoding\n",
        "df['sourceMedium'] = df['sourceMedium'].astype('category')\n",
        "df['sourceMedium'] = df['sourceMedium'].cat.codes\n"
      ],
      "execution_count": 100,
      "outputs": []
    },
    {
      "cell_type": "code",
      "metadata": {
        "id": "-BmyeEUg_fZx"
      },
      "source": [
        "Xtrain= df[['DemoReqPg_CallClicks_evt_count', 'air_purifier_page_top', 'bounces',\n",
        "            'bounces_hist', 'checkout_page_top', 'contactus_top',\n",
        "            'country', 'customer_service_amc_login_top',\n",
        "            'customer_service_request_login_top', 'demo_page_top', 'device',\n",
        "            'dsls', 'fired_DemoReqPg_CallClicks_evt', 'fired_help_me_buy_evt',\n",
        "            'fired_phone_clicks_evt', 'goal4Completions', 'help_me_buy_evt_count',\n",
        "            'help_me_buy_evt_count_hist', 'offer_page_top', 'pageviews',\n",
        "            'pageviews_hist', 'paid', 'paid_hist', 'phone_clicks_evt_count',\n",
        "            'phone_clicks_evt_count_hist', 'region', 'security_solutions_page_top',\n",
        "            'sessionDuration', 'sessionDuration_hist', 'sessions', 'sessions_hist',\n",
        "            #'sourceMedium', \n",
        "            'storelocator_top', 'successbookdemo_top',\n",
        "            'vacuum_cleaner_page_top', 'visited_air_purifier_page',\n",
        "            'visited_air_purifier_page_hist', 'visited_checkout_page',\n",
        "            'visited_checkout_page_hist', 'visited_contactus',\n",
        "            'visited_contactus_hist', 'visited_customer_service_amc_login',\n",
        "            'visited_customer_service_amc_login_hist',\n",
        "            'visited_customer_service_request_login',\n",
        "            'visited_customer_service_request_login_hist', 'visited_demo_page',\n",
        "            'visited_demo_page_hist', 'visited_offer_page',\n",
        "            'visited_offer_page_hist', 'visited_security_solutions_page',\n",
        "            'visited_security_solutions_page_hist', 'visited_storelocator',\n",
        "            'visited_storelocator_hist', 'visited_successbookdemo',\n",
        "            'visited_vacuum_cleaner_page', 'visited_vacuum_cleaner_page_hist',\n",
        "            'visited_water_purifier_page', 'visited_water_purifier_page_hist',\n",
        "            'water_purifier_page_top'\n",
        "            ]]"
      ],
      "execution_count": 101,
      "outputs": []
    },
    {
      "cell_type": "code",
      "metadata": {
        "id": "DSFC53ndDGyr",
        "outputId": "73aa5774-112a-4c59-af34-d13a9bee1da6",
        "colab": {
          "base_uri": "https://localhost:8080/",
          "height": 51
        }
      },
      "source": [
        "print(df['sourceMedium'].unique())"
      ],
      "execution_count": 102,
      "outputs": [
        {
          "output_type": "stream",
          "text": [
            "[16 15  0 14 32  6 36  2 21 23 29 40 24  5 13  3 31 39  8  7 18 33 12 27\n",
            "  1 25 35 30  4 11 22 19 17 20 26 28 10 38 34  9 37]\n"
          ],
          "name": "stdout"
        }
      ]
    },
    {
      "cell_type": "code",
      "metadata": {
        "id": "-SFtQJ6O_iTA"
      },
      "source": [
        "ytrain=df[['converted_in_7days']]"
      ],
      "execution_count": 103,
      "outputs": []
    },
    {
      "cell_type": "code",
      "metadata": {
        "id": "sGBRX8La_joC",
        "outputId": "83cbc6b6-5d80-487d-f3a3-9a7df2edd5d3",
        "colab": {
          "base_uri": "https://localhost:8080/",
          "height": 122
        }
      },
      "source": [
        "log_reg = sm.Logit(ytrain, Xtrain).fit()"
      ],
      "execution_count": 104,
      "outputs": [
        {
          "output_type": "stream",
          "text": [
            "Warning: Maximum number of iterations has been exceeded.\n",
            "         Current function value: 0.038126\n",
            "         Iterations: 35\n"
          ],
          "name": "stdout"
        },
        {
          "output_type": "stream",
          "text": [
            "/usr/local/lib/python3.6/dist-packages/statsmodels/base/model.py:512: ConvergenceWarning: Maximum Likelihood optimization failed to converge. Check mle_retvals\n",
            "  \"Check mle_retvals\", ConvergenceWarning)\n"
          ],
          "name": "stderr"
        }
      ]
    },
    {
      "cell_type": "code",
      "metadata": {
        "id": "MWws2EZMCAJ8",
        "outputId": "40a1a083-6e52-491e-821b-f1b0031b07c9",
        "colab": {
          "base_uri": "https://localhost:8080/",
          "height": 1000
        }
      },
      "source": [
        "print (log_reg.summary())"
      ],
      "execution_count": 105,
      "outputs": [
        {
          "output_type": "stream",
          "text": [
            "                           Logit Regression Results                           \n",
            "==============================================================================\n",
            "Dep. Variable:     converted_in_7days   No. Observations:                 5783\n",
            "Model:                          Logit   Df Residuals:                     5725\n",
            "Method:                           MLE   Df Model:                           57\n",
            "Date:                Mon, 19 Oct 2020   Pseudo R-squ.:                 0.01481\n",
            "Time:                        08:56:47   Log-Likelihood:                -220.48\n",
            "converged:                      False   LL-Null:                       -223.80\n",
            "Covariance Type:            nonrobust   LLR p-value:                     1.000\n",
            "===============================================================================================================\n",
            "                                                  coef    std err          z      P>|z|      [0.025      0.975]\n",
            "---------------------------------------------------------------------------------------------------------------\n",
            "DemoReqPg_CallClicks_evt_count                -75.1828   5.33e+15  -1.41e-14      1.000   -1.04e+16    1.04e+16\n",
            "air_purifier_page_top                           0.0007      0.001      0.502      0.615      -0.002       0.003\n",
            "bounces                                         1.0518      0.594      1.771      0.077      -0.112       2.216\n",
            "bounces_hist                                   -0.0307        nan        nan        nan         nan         nan\n",
            "checkout_page_top                              -0.0019      0.007     -0.291      0.771      -0.015       0.011\n",
            "contactus_top                                  -0.0003      0.002     -0.195      0.845      -0.003       0.003\n",
            "country                                         0.8851      0.529      1.674      0.094      -0.151       1.921\n",
            "customer_service_amc_login_top                 -0.0155      0.021     -0.741      0.459      -0.056       0.026\n",
            "customer_service_request_login_top              0.0010      0.002      0.436      0.663      -0.004       0.006\n",
            "demo_page_top                                  -0.0005      0.001     -0.698      0.485      -0.002       0.001\n",
            "device                                         -0.9967      0.399     -2.496      0.013      -1.779      -0.214\n",
            "dsls                                           -0.0149      0.027     -0.553      0.580      -0.068       0.038\n",
            "fired_DemoReqPg_CallClicks_evt                 76.8765   5.33e+15   1.44e-14      1.000   -1.04e+16    1.04e+16\n",
            "fired_help_me_buy_evt                          -1.4353      1.818     -0.790      0.430      -4.998       2.128\n",
            "fired_phone_clicks_evt                         -2.8694      2.290     -1.253      0.210      -7.358       1.619\n",
            "goal4Completions                              -16.1562   8430.492     -0.002      0.998   -1.65e+04    1.65e+04\n",
            "help_me_buy_evt_count                           0.7405      0.705      1.051      0.293      -0.641       2.122\n",
            "help_me_buy_evt_count_hist                     -0.2488      0.348     -0.715      0.475      -0.931       0.433\n",
            "offer_page_top                                  0.0005      0.002      0.218      0.828      -0.004       0.005\n",
            "pageviews                                       0.0448      0.026      1.737      0.082      -0.006       0.095\n",
            "pageviews_hist                                 -0.0031      0.005     -0.690      0.490      -0.012       0.006\n",
            "paid                                           -0.7541      0.636     -1.185      0.236      -2.001       0.493\n",
            "paid_hist                                      -0.1914      0.177     -1.084      0.279      -0.538       0.155\n",
            "phone_clicks_evt_count                          1.5490      1.012      1.530      0.126      -0.435       3.533\n",
            "phone_clicks_evt_count_hist                    -0.4253      0.664     -0.641      0.522      -1.726       0.875\n",
            "region                                         -0.0981      0.017     -5.698      0.000      -0.132      -0.064\n",
            "security_solutions_page_top                    -0.0018    850.947  -2.08e-06      1.000   -1667.828    1667.824\n",
            "sessionDuration                              9.702e-05      0.000      0.241      0.809      -0.001       0.001\n",
            "sessionDuration_hist                         8.764e-05   9.58e-05      0.915      0.360      -0.000       0.000\n",
            "sessions                                       -1.4180      0.549     -2.583      0.010      -2.494      -0.342\n",
            "sessions_hist                                   0.0450        nan        nan        nan         nan         nan\n",
            "storelocator_top                               -0.2526   2.13e+04  -1.19e-05      1.000   -4.17e+04    4.17e+04\n",
            "successbookdemo_top                             0.0042      0.005      0.933      0.351      -0.005       0.013\n",
            "vacuum_cleaner_page_top                        -0.0014      0.002     -0.715      0.474      -0.005       0.002\n",
            "visited_air_purifier_page                      -1.8853      2.539     -0.742      0.458      -6.863       3.092\n",
            "visited_air_purifier_page_hist                  0.6609      0.239      2.769      0.006       0.193       1.129\n",
            "visited_checkout_page                           0.0077      1.290      0.006      0.995      -2.520       2.535\n",
            "visited_checkout_page_hist                     -0.2353      0.239     -0.986      0.324      -0.703       0.232\n",
            "visited_contactus                               0.8572      0.799      1.073      0.283      -0.709       2.424\n",
            "visited_contactus_hist                         -1.0778      1.021     -1.055      0.291      -3.080       0.924\n",
            "visited_customer_service_amc_login             -0.4208      1.308     -0.322      0.748      -2.985       2.143\n",
            "visited_customer_service_amc_login_hist        -0.3387      0.510     -0.664      0.507      -1.338       0.661\n",
            "visited_customer_service_request_login         -0.2122      0.952     -0.223      0.824      -2.078       1.654\n",
            "visited_customer_service_request_login_hist     0.0843      0.271      0.311      0.756      -0.447       0.616\n",
            "visited_demo_page                               0.1087      0.673      0.161      0.872      -1.211       1.429\n",
            "visited_demo_page_hist                          0.2891      0.022     13.190      0.000       0.246       0.332\n",
            "visited_offer_page                             -1.1616      1.133     -1.025      0.305      -3.383       1.060\n",
            "visited_offer_page_hist                        -0.8260      0.493     -1.676      0.094      -1.792       0.140\n",
            "visited_security_solutions_page               -20.8656   6.86e+04     -0.000      1.000   -1.35e+05    1.35e+05\n",
            "visited_security_solutions_page_hist          -16.3903   2573.707     -0.006      0.995   -5060.763    5027.982\n",
            "visited_storelocator                          -18.0710   9.19e+04     -0.000      1.000    -1.8e+05     1.8e+05\n",
            "visited_storelocator_hist                     -19.6475   1.64e+04     -0.001      0.999   -3.21e+04     3.2e+04\n",
            "visited_successbookdemo                        19.2224   8430.492      0.002      0.998   -1.65e+04    1.65e+04\n",
            "visited_vacuum_cleaner_page                    -0.7525      0.747     -1.007      0.314      -2.217       0.712\n",
            "visited_vacuum_cleaner_page_hist               -0.0241      0.118     -0.204      0.838      -0.255       0.207\n",
            "visited_water_purifier_page                    -1.6257      0.529     -3.071      0.002      -2.663      -0.588\n",
            "visited_water_purifier_page_hist                0.0801        nan        nan        nan         nan         nan\n",
            "water_purifier_page_top                         0.0008        nan        nan        nan         nan         nan\n",
            "===============================================================================================================\n",
            "\n",
            "Possibly complete quasi-separation: A fraction 0.15 of observations can be\n",
            "perfectly predicted. This might indicate that there is complete\n",
            "quasi-separation. In this case some parameters will not be identified.\n"
          ],
          "name": "stdout"
        },
        {
          "output_type": "stream",
          "text": [
            "/usr/local/lib/python3.6/dist-packages/statsmodels/base/model.py:1286: RuntimeWarning: invalid value encountered in sqrt\n",
            "  bse_ = np.sqrt(np.diag(self.cov_params()))\n",
            "/usr/local/lib/python3.6/dist-packages/scipy/stats/_distn_infrastructure.py:903: RuntimeWarning: invalid value encountered in greater\n",
            "  return (a < x) & (x < b)\n",
            "/usr/local/lib/python3.6/dist-packages/scipy/stats/_distn_infrastructure.py:903: RuntimeWarning: invalid value encountered in less\n",
            "  return (a < x) & (x < b)\n",
            "/usr/local/lib/python3.6/dist-packages/scipy/stats/_distn_infrastructure.py:1912: RuntimeWarning: invalid value encountered in less_equal\n",
            "  cond2 = cond0 & (x <= _a)\n"
          ],
          "name": "stderr"
        }
      ]
    },
    {
      "cell_type": "code",
      "metadata": {
        "id": "unYyEy3FArM_"
      },
      "source": [
        "from sklearn.linear_model import LogisticRegression"
      ],
      "execution_count": 106,
      "outputs": []
    },
    {
      "cell_type": "code",
      "metadata": {
        "id": "yJrRCgM6AvBU",
        "outputId": "72448830-b3f4-4018-e272-df9e6a45674c",
        "colab": {
          "base_uri": "https://localhost:8080/",
          "height": 207
        }
      },
      "source": [
        "clf = LogisticRegression(random_state=0).fit(Xtrain, ytrain)"
      ],
      "execution_count": 107,
      "outputs": [
        {
          "output_type": "stream",
          "text": [
            "/usr/local/lib/python3.6/dist-packages/sklearn/utils/validation.py:760: DataConversionWarning: A column-vector y was passed when a 1d array was expected. Please change the shape of y to (n_samples, ), for example using ravel().\n",
            "  y = column_or_1d(y, warn=True)\n",
            "/usr/local/lib/python3.6/dist-packages/sklearn/linear_model/_logistic.py:940: ConvergenceWarning: lbfgs failed to converge (status=1):\n",
            "STOP: TOTAL NO. of ITERATIONS REACHED LIMIT.\n",
            "\n",
            "Increase the number of iterations (max_iter) or scale the data as shown in:\n",
            "    https://scikit-learn.org/stable/modules/preprocessing.html\n",
            "Please also refer to the documentation for alternative solver options:\n",
            "    https://scikit-learn.org/stable/modules/linear_model.html#logistic-regression\n",
            "  extra_warning_msg=_LOGISTIC_SOLVER_CONVERGENCE_MSG)\n"
          ],
          "name": "stderr"
        }
      ]
    },
    {
      "cell_type": "code",
      "metadata": {
        "id": "TUDfpv2gBS1j",
        "outputId": "1b3fdf15-a91d-46eb-d739-76234e42861b",
        "colab": {
          "base_uri": "https://localhost:8080/",
          "height": 357
        }
      },
      "source": [
        "clf.coef_"
      ],
      "execution_count": 108,
      "outputs": [
        {
          "output_type": "execute_result",
          "data": {
            "text/plain": [
              "array([[-1.97432874e-04,  4.42440992e-04, -7.01138028e-03,\n",
              "        -2.12778344e-03, -5.68483784e-03, -1.91333097e-03,\n",
              "        -4.00162166e-04, -1.28152786e-02,  2.07597580e-03,\n",
              "        -2.20708461e-03, -1.16713408e-02, -5.89619761e-02,\n",
              "        -1.73340615e-04, -3.96349109e-04, -5.83575739e-04,\n",
              "         1.98214309e-04, -2.48569475e-04, -1.14405728e-03,\n",
              "         7.57365657e-04, -3.44280360e-02, -2.85958318e-03,\n",
              "        -9.58699665e-03, -1.24956325e-02, -6.28015216e-04,\n",
              "        -1.10121034e-03, -2.23378653e-01, -1.51060675e-03,\n",
              "         2.40864515e-04,  4.35681961e-05, -2.10394725e-02,\n",
              "        -1.48308121e-02, -5.96349105e-03,  1.09978209e-02,\n",
              "        -2.84195000e-03, -1.38490784e-04,  1.01900156e-03,\n",
              "        -1.63392441e-04, -1.72154382e-05, -9.53700493e-05,\n",
              "        -4.78902928e-04, -4.27595703e-04, -9.18290205e-04,\n",
              "        -8.03508426e-05, -7.80518640e-05, -7.80808564e-03,\n",
              "        -9.38980685e-03, -4.29498269e-04, -1.10993438e-03,\n",
              "        -2.84182035e-05, -9.80591386e-05, -9.27044066e-05,\n",
              "        -2.65277031e-04,  2.17771553e-04, -5.57235112e-04,\n",
              "        -6.52483403e-04, -2.68447070e-03, -1.27496731e-03,\n",
              "         3.20669219e-04]])"
            ]
          },
          "metadata": {
            "tags": []
          },
          "execution_count": 108
        }
      ]
    },
    {
      "cell_type": "code",
      "metadata": {
        "id": "UM6vUzomBiyi",
        "outputId": "05b3129b-a48e-4d2b-dddd-66ee289b825c",
        "colab": {
          "base_uri": "https://localhost:8080/",
          "height": 34
        }
      },
      "source": [
        "clf.intercept_"
      ],
      "execution_count": 109,
      "outputs": [
        {
          "output_type": "execute_result",
          "data": {
            "text/plain": [
              "array([-0.01366699])"
            ]
          },
          "metadata": {
            "tags": []
          },
          "execution_count": 109
        }
      ]
    }
  ]
}